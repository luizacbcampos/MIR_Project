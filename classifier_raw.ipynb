{
 "cells": [
  {
   "cell_type": "markdown",
   "metadata": {
    "id": "9tPUjd1jyaGF"
   },
   "source": [
    "# Falsetto Classifier\n",
    "\n",
    "A basic atempt to classify a song's falsetto level"
   ]
  },
  {
   "cell_type": "markdown",
   "metadata": {
    "id": "-tQYy7KIzAqR"
   },
   "source": [
    "## Imports and auxiliary functions"
   ]
  },
  {
   "cell_type": "code",
   "execution_count": 3,
   "metadata": {
    "id": "mgllMaBowkhC"
   },
   "outputs": [],
   "source": [
    "import pandas as pd\n",
    "import matplotlib.pyplot as plt\n",
    "\n",
    "import imblearn\n",
    "from imblearn.over_sampling import SMOTE\n",
    "from imblearn.combine import SMOTEENN\n",
    "\n",
    "from sklearn.preprocessing import OneHotEncoder\n",
    "from sklearn.tree import DecisionTreeClassifier\n",
    "from sklearn.model_selection import train_test_split\n",
    "from sklearn.metrics import accuracy_score, f1_score, confusion_matrix\n",
    "from sklearn.ensemble import RandomForestClassifier"
   ]
  },
  {
   "cell_type": "markdown",
   "metadata": {
    "id": "_bnwSkeW4ckt"
   },
   "source": [
    "### Auxiliary functions"
   ]
  },
  {
   "cell_type": "code",
   "execution_count": 39,
   "metadata": {
    "id": "aTDtwxx34BdY"
   },
   "outputs": [],
   "source": [
    "def show_confusion_matrix(y_test, y_pred):\n",
    "  cm = confusion_matrix(y_test, y_pred)\n",
    "  fig = plt.figure()\n",
    "  ax = fig.add_subplot(111)\n",
    "  cax = ax.matshow(cm)\n",
    "  plt.title('Confusion matrix of the classifier')\n",
    "  fig.colorbar(cax)\n",
    "  plt.xlabel('Predicted')\n",
    "  plt.ylabel('True')\n",
    "  plt.show()"
   ]
  },
  {
   "cell_type": "code",
   "execution_count": 82,
   "metadata": {
    "id": "s27FPup_4f5a"
   },
   "outputs": [],
   "source": [
    "def get_y_and_X(df):\n",
    "  y = df['falsetto']\n",
    "\n",
    "  cols = [col for col in df.columns if col is not 'falsetto' and col is not 'spotify_id']\n",
    "  X = df.drop(axis=1, columns=['falsetto', 'spotify_id'])\n",
    "  return y, X\n",
    "\n",
    "def show_metrics(y_test, y_pred):\n",
    "  print('Accuracy score: {}'.format(accuracy_score(y_test, y_pred)))\n",
    "  print('F1 Macro-Score: {}'.format(f1_score(y_test, y_pred, average='macro')))\n",
    "  print('F1 Weighted-Score: {}'.format(f1_score(y_test, y_pred, average='weighted')))"
   ]
  },
  {
   "cell_type": "markdown",
   "metadata": {
    "id": "_bkwpw_W0Li4"
   },
   "source": [
    "## Dataframe operations"
   ]
  },
  {
   "cell_type": "code",
   "execution_count": 4,
   "metadata": {
    "colab": {
     "base_uri": "https://localhost:8080/",
     "height": 442
    },
    "id": "8W9ITB11wmdu",
    "outputId": "6a7e4086-5829-4ab9-bc20-302f1eb7a8d4"
   },
   "outputs": [
    {
     "data": {
      "text/html": [
       "<div>\n",
       "<style scoped>\n",
       "    .dataframe tbody tr th:only-of-type {\n",
       "        vertical-align: middle;\n",
       "    }\n",
       "\n",
       "    .dataframe tbody tr th {\n",
       "        vertical-align: top;\n",
       "    }\n",
       "\n",
       "    .dataframe thead th {\n",
       "        text-align: right;\n",
       "    }\n",
       "</style>\n",
       "<table border=\"1\" class=\"dataframe\">\n",
       "  <thead>\n",
       "    <tr style=\"text-align: right;\">\n",
       "      <th></th>\n",
       "      <th>gender</th>\n",
       "      <th>falsetto</th>\n",
       "      <th>spotify_id</th>\n",
       "      <th>acousticness</th>\n",
       "      <th>danceability</th>\n",
       "      <th>energy</th>\n",
       "      <th>instrumentalness</th>\n",
       "      <th>key</th>\n",
       "      <th>liveness</th>\n",
       "      <th>loudness</th>\n",
       "      <th>...</th>\n",
       "      <th>lowlevel.spectral_rolloff.mean</th>\n",
       "      <th>lowlevel.spectral_rolloff.stdev</th>\n",
       "      <th>lowlevel.spectral_skewness.mean</th>\n",
       "      <th>lowlevel.spectral_skewness.stdev</th>\n",
       "      <th>lowlevel.spectral_spread.mean</th>\n",
       "      <th>lowlevel.spectral_spread.stdev</th>\n",
       "      <th>lowlevel.spectral_strongpeak.mean</th>\n",
       "      <th>lowlevel.spectral_strongpeak.stdev</th>\n",
       "      <th>lowlevel.zerocrossingrate.mean</th>\n",
       "      <th>lowlevel.zerocrossingrate.stdev</th>\n",
       "    </tr>\n",
       "  </thead>\n",
       "  <tbody>\n",
       "    <tr>\n",
       "      <th>0</th>\n",
       "      <td>male</td>\n",
       "      <td>0.0</td>\n",
       "      <td>5g5EdgkfKVUceOTJtm0Kel</td>\n",
       "      <td>0.5730</td>\n",
       "      <td>0.487</td>\n",
       "      <td>0.192</td>\n",
       "      <td>0.000003</td>\n",
       "      <td>1.0</td>\n",
       "      <td>0.0759</td>\n",
       "      <td>-17.308</td>\n",
       "      <td>...</td>\n",
       "      <td>1971.881714</td>\n",
       "      <td>2904.578125</td>\n",
       "      <td>2.766868</td>\n",
       "      <td>2.309679</td>\n",
       "      <td>4682942.50</td>\n",
       "      <td>2566181.250</td>\n",
       "      <td>1.312214</td>\n",
       "      <td>1.776766</td>\n",
       "      <td>0.073260</td>\n",
       "      <td>0.091557</td>\n",
       "    </tr>\n",
       "    <tr>\n",
       "      <th>1</th>\n",
       "      <td>male</td>\n",
       "      <td>0.0</td>\n",
       "      <td>62GYoGszQfROZswLee6W3O</td>\n",
       "      <td>0.3140</td>\n",
       "      <td>0.850</td>\n",
       "      <td>0.466</td>\n",
       "      <td>0.023400</td>\n",
       "      <td>1.0</td>\n",
       "      <td>0.1290</td>\n",
       "      <td>-15.673</td>\n",
       "      <td>...</td>\n",
       "      <td>2611.819824</td>\n",
       "      <td>2596.150146</td>\n",
       "      <td>1.852206</td>\n",
       "      <td>1.690892</td>\n",
       "      <td>4348480.50</td>\n",
       "      <td>2316541.000</td>\n",
       "      <td>1.372175</td>\n",
       "      <td>1.901234</td>\n",
       "      <td>0.093488</td>\n",
       "      <td>0.074530</td>\n",
       "    </tr>\n",
       "    <tr>\n",
       "      <th>2</th>\n",
       "      <td>male</td>\n",
       "      <td>0.0</td>\n",
       "      <td>2nWHzbBWBOePUvAImQv2So</td>\n",
       "      <td>0.0317</td>\n",
       "      <td>0.878</td>\n",
       "      <td>0.951</td>\n",
       "      <td>0.544000</td>\n",
       "      <td>7.0</td>\n",
       "      <td>0.0614</td>\n",
       "      <td>-5.077</td>\n",
       "      <td>...</td>\n",
       "      <td>9238.177734</td>\n",
       "      <td>7254.523926</td>\n",
       "      <td>4.492148</td>\n",
       "      <td>4.754400</td>\n",
       "      <td>4727808.50</td>\n",
       "      <td>4539257.000</td>\n",
       "      <td>0.701681</td>\n",
       "      <td>1.969949</td>\n",
       "      <td>0.138516</td>\n",
       "      <td>0.136973</td>\n",
       "    </tr>\n",
       "    <tr>\n",
       "      <th>3</th>\n",
       "      <td>female</td>\n",
       "      <td>0.0</td>\n",
       "      <td>6Llr9PVC1cirKUwu7Fle83</td>\n",
       "      <td>0.6030</td>\n",
       "      <td>0.505</td>\n",
       "      <td>0.625</td>\n",
       "      <td>0.000040</td>\n",
       "      <td>5.0</td>\n",
       "      <td>0.0823</td>\n",
       "      <td>-8.195</td>\n",
       "      <td>...</td>\n",
       "      <td>2351.235840</td>\n",
       "      <td>2622.513428</td>\n",
       "      <td>2.823243</td>\n",
       "      <td>3.105695</td>\n",
       "      <td>3685186.50</td>\n",
       "      <td>2683900.000</td>\n",
       "      <td>1.594873</td>\n",
       "      <td>2.358309</td>\n",
       "      <td>0.086646</td>\n",
       "      <td>0.088080</td>\n",
       "    </tr>\n",
       "    <tr>\n",
       "      <th>4</th>\n",
       "      <td>male</td>\n",
       "      <td>0.0</td>\n",
       "      <td>6NF8MZ2trxckVBr82pyyPt</td>\n",
       "      <td>0.7190</td>\n",
       "      <td>0.544</td>\n",
       "      <td>0.425</td>\n",
       "      <td>0.018600</td>\n",
       "      <td>10.0</td>\n",
       "      <td>0.9640</td>\n",
       "      <td>-10.231</td>\n",
       "      <td>...</td>\n",
       "      <td>4418.749023</td>\n",
       "      <td>4766.960449</td>\n",
       "      <td>3.549010</td>\n",
       "      <td>3.535505</td>\n",
       "      <td>3004675.25</td>\n",
       "      <td>2536691.750</td>\n",
       "      <td>0.989734</td>\n",
       "      <td>2.951486</td>\n",
       "      <td>0.123163</td>\n",
       "      <td>0.092290</td>\n",
       "    </tr>\n",
       "    <tr>\n",
       "      <th>...</th>\n",
       "      <td>...</td>\n",
       "      <td>...</td>\n",
       "      <td>...</td>\n",
       "      <td>...</td>\n",
       "      <td>...</td>\n",
       "      <td>...</td>\n",
       "      <td>...</td>\n",
       "      <td>...</td>\n",
       "      <td>...</td>\n",
       "      <td>...</td>\n",
       "      <td>...</td>\n",
       "      <td>...</td>\n",
       "      <td>...</td>\n",
       "      <td>...</td>\n",
       "      <td>...</td>\n",
       "      <td>...</td>\n",
       "      <td>...</td>\n",
       "      <td>...</td>\n",
       "      <td>...</td>\n",
       "      <td>...</td>\n",
       "      <td>...</td>\n",
       "    </tr>\n",
       "    <tr>\n",
       "      <th>19965</th>\n",
       "      <td>male</td>\n",
       "      <td>0.0</td>\n",
       "      <td>4ANFPo7dzs2DdPuONXC9bp</td>\n",
       "      <td>0.0091</td>\n",
       "      <td>0.881</td>\n",
       "      <td>0.549</td>\n",
       "      <td>0.000000</td>\n",
       "      <td>10.0</td>\n",
       "      <td>0.1370</td>\n",
       "      <td>-5.589</td>\n",
       "      <td>...</td>\n",
       "      <td>2941.687500</td>\n",
       "      <td>2695.421143</td>\n",
       "      <td>1.662005</td>\n",
       "      <td>1.671863</td>\n",
       "      <td>4555844.50</td>\n",
       "      <td>2208549.750</td>\n",
       "      <td>1.426403</td>\n",
       "      <td>1.851251</td>\n",
       "      <td>0.101371</td>\n",
       "      <td>0.076952</td>\n",
       "    </tr>\n",
       "    <tr>\n",
       "      <th>19966</th>\n",
       "      <td>male</td>\n",
       "      <td>0.0</td>\n",
       "      <td>2QEnZJ8FwpBoyLKcFcgceT</td>\n",
       "      <td>0.0365</td>\n",
       "      <td>0.801</td>\n",
       "      <td>0.774</td>\n",
       "      <td>0.000003</td>\n",
       "      <td>1.0</td>\n",
       "      <td>0.1140</td>\n",
       "      <td>-5.125</td>\n",
       "      <td>...</td>\n",
       "      <td>2758.055908</td>\n",
       "      <td>2346.302490</td>\n",
       "      <td>1.758831</td>\n",
       "      <td>2.122977</td>\n",
       "      <td>3333951.25</td>\n",
       "      <td>1697798.375</td>\n",
       "      <td>1.092398</td>\n",
       "      <td>1.439533</td>\n",
       "      <td>0.094051</td>\n",
       "      <td>0.067690</td>\n",
       "    </tr>\n",
       "    <tr>\n",
       "      <th>19967</th>\n",
       "      <td>male</td>\n",
       "      <td>0.0</td>\n",
       "      <td>3xEozpt8pAptvpH69iJhOw</td>\n",
       "      <td>0.7860</td>\n",
       "      <td>0.434</td>\n",
       "      <td>0.314</td>\n",
       "      <td>0.000000</td>\n",
       "      <td>10.0</td>\n",
       "      <td>0.1630</td>\n",
       "      <td>-7.780</td>\n",
       "      <td>...</td>\n",
       "      <td>1763.226318</td>\n",
       "      <td>1430.873047</td>\n",
       "      <td>2.420862</td>\n",
       "      <td>1.929476</td>\n",
       "      <td>3221035.00</td>\n",
       "      <td>1425182.125</td>\n",
       "      <td>2.114549</td>\n",
       "      <td>2.202738</td>\n",
       "      <td>0.064748</td>\n",
       "      <td>0.045259</td>\n",
       "    </tr>\n",
       "    <tr>\n",
       "      <th>19968</th>\n",
       "      <td>male</td>\n",
       "      <td>0.0</td>\n",
       "      <td>0DiDStADDVh3SvAsoJAFMk</td>\n",
       "      <td>0.1080</td>\n",
       "      <td>0.795</td>\n",
       "      <td>0.496</td>\n",
       "      <td>0.000000</td>\n",
       "      <td>0.0</td>\n",
       "      <td>0.0645</td>\n",
       "      <td>-5.883</td>\n",
       "      <td>...</td>\n",
       "      <td>2566.776855</td>\n",
       "      <td>2540.895264</td>\n",
       "      <td>1.707363</td>\n",
       "      <td>1.742358</td>\n",
       "      <td>4678761.50</td>\n",
       "      <td>2182918.250</td>\n",
       "      <td>1.449685</td>\n",
       "      <td>1.619190</td>\n",
       "      <td>0.097777</td>\n",
       "      <td>0.080012</td>\n",
       "    </tr>\n",
       "    <tr>\n",
       "      <th>19969</th>\n",
       "      <td>male</td>\n",
       "      <td>0.0</td>\n",
       "      <td>6XHVuErjQ4XNm6nDPVCxVX</td>\n",
       "      <td>0.1230</td>\n",
       "      <td>0.696</td>\n",
       "      <td>0.454</td>\n",
       "      <td>0.000000</td>\n",
       "      <td>1.0</td>\n",
       "      <td>0.1550</td>\n",
       "      <td>-6.756</td>\n",
       "      <td>...</td>\n",
       "      <td>2171.963867</td>\n",
       "      <td>2274.791016</td>\n",
       "      <td>2.825265</td>\n",
       "      <td>3.053260</td>\n",
       "      <td>4228989.00</td>\n",
       "      <td>2354418.750</td>\n",
       "      <td>1.566426</td>\n",
       "      <td>2.026457</td>\n",
       "      <td>0.079023</td>\n",
       "      <td>0.064407</td>\n",
       "    </tr>\n",
       "  </tbody>\n",
       "</table>\n",
       "<p>19970 rows × 99 columns</p>\n",
       "</div>"
      ],
      "text/plain": [
       "       gender  falsetto              spotify_id  acousticness  danceability  \\\n",
       "0        male       0.0  5g5EdgkfKVUceOTJtm0Kel        0.5730         0.487   \n",
       "1        male       0.0  62GYoGszQfROZswLee6W3O        0.3140         0.850   \n",
       "2        male       0.0  2nWHzbBWBOePUvAImQv2So        0.0317         0.878   \n",
       "3      female       0.0  6Llr9PVC1cirKUwu7Fle83        0.6030         0.505   \n",
       "4        male       0.0  6NF8MZ2trxckVBr82pyyPt        0.7190         0.544   \n",
       "...       ...       ...                     ...           ...           ...   \n",
       "19965    male       0.0  4ANFPo7dzs2DdPuONXC9bp        0.0091         0.881   \n",
       "19966    male       0.0  2QEnZJ8FwpBoyLKcFcgceT        0.0365         0.801   \n",
       "19967    male       0.0  3xEozpt8pAptvpH69iJhOw        0.7860         0.434   \n",
       "19968    male       0.0  0DiDStADDVh3SvAsoJAFMk        0.1080         0.795   \n",
       "19969    male       0.0  6XHVuErjQ4XNm6nDPVCxVX        0.1230         0.696   \n",
       "\n",
       "       energy  instrumentalness   key  liveness  loudness  ...  \\\n",
       "0       0.192          0.000003   1.0    0.0759   -17.308  ...   \n",
       "1       0.466          0.023400   1.0    0.1290   -15.673  ...   \n",
       "2       0.951          0.544000   7.0    0.0614    -5.077  ...   \n",
       "3       0.625          0.000040   5.0    0.0823    -8.195  ...   \n",
       "4       0.425          0.018600  10.0    0.9640   -10.231  ...   \n",
       "...       ...               ...   ...       ...       ...  ...   \n",
       "19965   0.549          0.000000  10.0    0.1370    -5.589  ...   \n",
       "19966   0.774          0.000003   1.0    0.1140    -5.125  ...   \n",
       "19967   0.314          0.000000  10.0    0.1630    -7.780  ...   \n",
       "19968   0.496          0.000000   0.0    0.0645    -5.883  ...   \n",
       "19969   0.454          0.000000   1.0    0.1550    -6.756  ...   \n",
       "\n",
       "       lowlevel.spectral_rolloff.mean  lowlevel.spectral_rolloff.stdev  \\\n",
       "0                         1971.881714                      2904.578125   \n",
       "1                         2611.819824                      2596.150146   \n",
       "2                         9238.177734                      7254.523926   \n",
       "3                         2351.235840                      2622.513428   \n",
       "4                         4418.749023                      4766.960449   \n",
       "...                               ...                              ...   \n",
       "19965                     2941.687500                      2695.421143   \n",
       "19966                     2758.055908                      2346.302490   \n",
       "19967                     1763.226318                      1430.873047   \n",
       "19968                     2566.776855                      2540.895264   \n",
       "19969                     2171.963867                      2274.791016   \n",
       "\n",
       "       lowlevel.spectral_skewness.mean  lowlevel.spectral_skewness.stdev  \\\n",
       "0                             2.766868                          2.309679   \n",
       "1                             1.852206                          1.690892   \n",
       "2                             4.492148                          4.754400   \n",
       "3                             2.823243                          3.105695   \n",
       "4                             3.549010                          3.535505   \n",
       "...                                ...                               ...   \n",
       "19965                         1.662005                          1.671863   \n",
       "19966                         1.758831                          2.122977   \n",
       "19967                         2.420862                          1.929476   \n",
       "19968                         1.707363                          1.742358   \n",
       "19969                         2.825265                          3.053260   \n",
       "\n",
       "       lowlevel.spectral_spread.mean  lowlevel.spectral_spread.stdev  \\\n",
       "0                         4682942.50                     2566181.250   \n",
       "1                         4348480.50                     2316541.000   \n",
       "2                         4727808.50                     4539257.000   \n",
       "3                         3685186.50                     2683900.000   \n",
       "4                         3004675.25                     2536691.750   \n",
       "...                              ...                             ...   \n",
       "19965                     4555844.50                     2208549.750   \n",
       "19966                     3333951.25                     1697798.375   \n",
       "19967                     3221035.00                     1425182.125   \n",
       "19968                     4678761.50                     2182918.250   \n",
       "19969                     4228989.00                     2354418.750   \n",
       "\n",
       "       lowlevel.spectral_strongpeak.mean  lowlevel.spectral_strongpeak.stdev  \\\n",
       "0                               1.312214                            1.776766   \n",
       "1                               1.372175                            1.901234   \n",
       "2                               0.701681                            1.969949   \n",
       "3                               1.594873                            2.358309   \n",
       "4                               0.989734                            2.951486   \n",
       "...                                  ...                                 ...   \n",
       "19965                           1.426403                            1.851251   \n",
       "19966                           1.092398                            1.439533   \n",
       "19967                           2.114549                            2.202738   \n",
       "19968                           1.449685                            1.619190   \n",
       "19969                           1.566426                            2.026457   \n",
       "\n",
       "       lowlevel.zerocrossingrate.mean  lowlevel.zerocrossingrate.stdev  \n",
       "0                            0.073260                         0.091557  \n",
       "1                            0.093488                         0.074530  \n",
       "2                            0.138516                         0.136973  \n",
       "3                            0.086646                         0.088080  \n",
       "4                            0.123163                         0.092290  \n",
       "...                               ...                              ...  \n",
       "19965                        0.101371                         0.076952  \n",
       "19966                        0.094051                         0.067690  \n",
       "19967                        0.064748                         0.045259  \n",
       "19968                        0.097777                         0.080012  \n",
       "19969                        0.079023                         0.064407  \n",
       "\n",
       "[19970 rows x 99 columns]"
      ]
     },
     "execution_count": 4,
     "metadata": {},
     "output_type": "execute_result"
    }
   ],
   "source": [
    "df = pd.read_csv('main.csv')\n",
    "df"
   ]
  },
  {
   "cell_type": "code",
   "execution_count": 5,
   "metadata": {
    "colab": {
     "base_uri": "https://localhost:8080/",
     "height": 442
    },
    "id": "xKUkMunAwphN",
    "outputId": "018f9d15-aca3-43f8-b44c-8f4bf278a3cc"
   },
   "outputs": [
    {
     "data": {
      "text/html": [
       "<div>\n",
       "<style scoped>\n",
       "    .dataframe tbody tr th:only-of-type {\n",
       "        vertical-align: middle;\n",
       "    }\n",
       "\n",
       "    .dataframe tbody tr th {\n",
       "        vertical-align: top;\n",
       "    }\n",
       "\n",
       "    .dataframe thead th {\n",
       "        text-align: right;\n",
       "    }\n",
       "</style>\n",
       "<table border=\"1\" class=\"dataframe\">\n",
       "  <thead>\n",
       "    <tr style=\"text-align: right;\">\n",
       "      <th></th>\n",
       "      <th>gender</th>\n",
       "      <th>falsetto</th>\n",
       "      <th>spotify_id</th>\n",
       "      <th>acousticness</th>\n",
       "      <th>danceability</th>\n",
       "      <th>energy</th>\n",
       "      <th>instrumentalness</th>\n",
       "      <th>key</th>\n",
       "      <th>liveness</th>\n",
       "      <th>loudness</th>\n",
       "      <th>...</th>\n",
       "      <th>lowlevel.spectral_rolloff.mean</th>\n",
       "      <th>lowlevel.spectral_rolloff.stdev</th>\n",
       "      <th>lowlevel.spectral_skewness.mean</th>\n",
       "      <th>lowlevel.spectral_skewness.stdev</th>\n",
       "      <th>lowlevel.spectral_spread.mean</th>\n",
       "      <th>lowlevel.spectral_spread.stdev</th>\n",
       "      <th>lowlevel.spectral_strongpeak.mean</th>\n",
       "      <th>lowlevel.spectral_strongpeak.stdev</th>\n",
       "      <th>lowlevel.zerocrossingrate.mean</th>\n",
       "      <th>lowlevel.zerocrossingrate.stdev</th>\n",
       "    </tr>\n",
       "  </thead>\n",
       "  <tbody>\n",
       "    <tr>\n",
       "      <th>0</th>\n",
       "      <td>male</td>\n",
       "      <td>0.0</td>\n",
       "      <td>5g5EdgkfKVUceOTJtm0Kel</td>\n",
       "      <td>0.5730</td>\n",
       "      <td>0.487</td>\n",
       "      <td>0.192</td>\n",
       "      <td>0.000003</td>\n",
       "      <td>1.0</td>\n",
       "      <td>0.0759</td>\n",
       "      <td>-17.308</td>\n",
       "      <td>...</td>\n",
       "      <td>1971.881714</td>\n",
       "      <td>2904.578125</td>\n",
       "      <td>2.766868</td>\n",
       "      <td>2.309679</td>\n",
       "      <td>4682942.50</td>\n",
       "      <td>2566181.250</td>\n",
       "      <td>1.312214</td>\n",
       "      <td>1.776766</td>\n",
       "      <td>0.073260</td>\n",
       "      <td>0.091557</td>\n",
       "    </tr>\n",
       "    <tr>\n",
       "      <th>1</th>\n",
       "      <td>male</td>\n",
       "      <td>0.0</td>\n",
       "      <td>62GYoGszQfROZswLee6W3O</td>\n",
       "      <td>0.3140</td>\n",
       "      <td>0.850</td>\n",
       "      <td>0.466</td>\n",
       "      <td>0.023400</td>\n",
       "      <td>1.0</td>\n",
       "      <td>0.1290</td>\n",
       "      <td>-15.673</td>\n",
       "      <td>...</td>\n",
       "      <td>2611.819824</td>\n",
       "      <td>2596.150146</td>\n",
       "      <td>1.852206</td>\n",
       "      <td>1.690892</td>\n",
       "      <td>4348480.50</td>\n",
       "      <td>2316541.000</td>\n",
       "      <td>1.372175</td>\n",
       "      <td>1.901234</td>\n",
       "      <td>0.093488</td>\n",
       "      <td>0.074530</td>\n",
       "    </tr>\n",
       "    <tr>\n",
       "      <th>2</th>\n",
       "      <td>male</td>\n",
       "      <td>0.0</td>\n",
       "      <td>2nWHzbBWBOePUvAImQv2So</td>\n",
       "      <td>0.0317</td>\n",
       "      <td>0.878</td>\n",
       "      <td>0.951</td>\n",
       "      <td>0.544000</td>\n",
       "      <td>7.0</td>\n",
       "      <td>0.0614</td>\n",
       "      <td>-5.077</td>\n",
       "      <td>...</td>\n",
       "      <td>9238.177734</td>\n",
       "      <td>7254.523926</td>\n",
       "      <td>4.492148</td>\n",
       "      <td>4.754400</td>\n",
       "      <td>4727808.50</td>\n",
       "      <td>4539257.000</td>\n",
       "      <td>0.701681</td>\n",
       "      <td>1.969949</td>\n",
       "      <td>0.138516</td>\n",
       "      <td>0.136973</td>\n",
       "    </tr>\n",
       "    <tr>\n",
       "      <th>3</th>\n",
       "      <td>female</td>\n",
       "      <td>0.0</td>\n",
       "      <td>6Llr9PVC1cirKUwu7Fle83</td>\n",
       "      <td>0.6030</td>\n",
       "      <td>0.505</td>\n",
       "      <td>0.625</td>\n",
       "      <td>0.000040</td>\n",
       "      <td>5.0</td>\n",
       "      <td>0.0823</td>\n",
       "      <td>-8.195</td>\n",
       "      <td>...</td>\n",
       "      <td>2351.235840</td>\n",
       "      <td>2622.513428</td>\n",
       "      <td>2.823243</td>\n",
       "      <td>3.105695</td>\n",
       "      <td>3685186.50</td>\n",
       "      <td>2683900.000</td>\n",
       "      <td>1.594873</td>\n",
       "      <td>2.358309</td>\n",
       "      <td>0.086646</td>\n",
       "      <td>0.088080</td>\n",
       "    </tr>\n",
       "    <tr>\n",
       "      <th>4</th>\n",
       "      <td>male</td>\n",
       "      <td>0.0</td>\n",
       "      <td>6NF8MZ2trxckVBr82pyyPt</td>\n",
       "      <td>0.7190</td>\n",
       "      <td>0.544</td>\n",
       "      <td>0.425</td>\n",
       "      <td>0.018600</td>\n",
       "      <td>10.0</td>\n",
       "      <td>0.9640</td>\n",
       "      <td>-10.231</td>\n",
       "      <td>...</td>\n",
       "      <td>4418.749023</td>\n",
       "      <td>4766.960449</td>\n",
       "      <td>3.549010</td>\n",
       "      <td>3.535505</td>\n",
       "      <td>3004675.25</td>\n",
       "      <td>2536691.750</td>\n",
       "      <td>0.989734</td>\n",
       "      <td>2.951486</td>\n",
       "      <td>0.123163</td>\n",
       "      <td>0.092290</td>\n",
       "    </tr>\n",
       "    <tr>\n",
       "      <th>...</th>\n",
       "      <td>...</td>\n",
       "      <td>...</td>\n",
       "      <td>...</td>\n",
       "      <td>...</td>\n",
       "      <td>...</td>\n",
       "      <td>...</td>\n",
       "      <td>...</td>\n",
       "      <td>...</td>\n",
       "      <td>...</td>\n",
       "      <td>...</td>\n",
       "      <td>...</td>\n",
       "      <td>...</td>\n",
       "      <td>...</td>\n",
       "      <td>...</td>\n",
       "      <td>...</td>\n",
       "      <td>...</td>\n",
       "      <td>...</td>\n",
       "      <td>...</td>\n",
       "      <td>...</td>\n",
       "      <td>...</td>\n",
       "      <td>...</td>\n",
       "    </tr>\n",
       "    <tr>\n",
       "      <th>19965</th>\n",
       "      <td>male</td>\n",
       "      <td>0.0</td>\n",
       "      <td>4ANFPo7dzs2DdPuONXC9bp</td>\n",
       "      <td>0.0091</td>\n",
       "      <td>0.881</td>\n",
       "      <td>0.549</td>\n",
       "      <td>0.000000</td>\n",
       "      <td>10.0</td>\n",
       "      <td>0.1370</td>\n",
       "      <td>-5.589</td>\n",
       "      <td>...</td>\n",
       "      <td>2941.687500</td>\n",
       "      <td>2695.421143</td>\n",
       "      <td>1.662005</td>\n",
       "      <td>1.671863</td>\n",
       "      <td>4555844.50</td>\n",
       "      <td>2208549.750</td>\n",
       "      <td>1.426403</td>\n",
       "      <td>1.851251</td>\n",
       "      <td>0.101371</td>\n",
       "      <td>0.076952</td>\n",
       "    </tr>\n",
       "    <tr>\n",
       "      <th>19966</th>\n",
       "      <td>male</td>\n",
       "      <td>0.0</td>\n",
       "      <td>2QEnZJ8FwpBoyLKcFcgceT</td>\n",
       "      <td>0.0365</td>\n",
       "      <td>0.801</td>\n",
       "      <td>0.774</td>\n",
       "      <td>0.000003</td>\n",
       "      <td>1.0</td>\n",
       "      <td>0.1140</td>\n",
       "      <td>-5.125</td>\n",
       "      <td>...</td>\n",
       "      <td>2758.055908</td>\n",
       "      <td>2346.302490</td>\n",
       "      <td>1.758831</td>\n",
       "      <td>2.122977</td>\n",
       "      <td>3333951.25</td>\n",
       "      <td>1697798.375</td>\n",
       "      <td>1.092398</td>\n",
       "      <td>1.439533</td>\n",
       "      <td>0.094051</td>\n",
       "      <td>0.067690</td>\n",
       "    </tr>\n",
       "    <tr>\n",
       "      <th>19967</th>\n",
       "      <td>male</td>\n",
       "      <td>0.0</td>\n",
       "      <td>3xEozpt8pAptvpH69iJhOw</td>\n",
       "      <td>0.7860</td>\n",
       "      <td>0.434</td>\n",
       "      <td>0.314</td>\n",
       "      <td>0.000000</td>\n",
       "      <td>10.0</td>\n",
       "      <td>0.1630</td>\n",
       "      <td>-7.780</td>\n",
       "      <td>...</td>\n",
       "      <td>1763.226318</td>\n",
       "      <td>1430.873047</td>\n",
       "      <td>2.420862</td>\n",
       "      <td>1.929476</td>\n",
       "      <td>3221035.00</td>\n",
       "      <td>1425182.125</td>\n",
       "      <td>2.114549</td>\n",
       "      <td>2.202738</td>\n",
       "      <td>0.064748</td>\n",
       "      <td>0.045259</td>\n",
       "    </tr>\n",
       "    <tr>\n",
       "      <th>19968</th>\n",
       "      <td>male</td>\n",
       "      <td>0.0</td>\n",
       "      <td>0DiDStADDVh3SvAsoJAFMk</td>\n",
       "      <td>0.1080</td>\n",
       "      <td>0.795</td>\n",
       "      <td>0.496</td>\n",
       "      <td>0.000000</td>\n",
       "      <td>0.0</td>\n",
       "      <td>0.0645</td>\n",
       "      <td>-5.883</td>\n",
       "      <td>...</td>\n",
       "      <td>2566.776855</td>\n",
       "      <td>2540.895264</td>\n",
       "      <td>1.707363</td>\n",
       "      <td>1.742358</td>\n",
       "      <td>4678761.50</td>\n",
       "      <td>2182918.250</td>\n",
       "      <td>1.449685</td>\n",
       "      <td>1.619190</td>\n",
       "      <td>0.097777</td>\n",
       "      <td>0.080012</td>\n",
       "    </tr>\n",
       "    <tr>\n",
       "      <th>19969</th>\n",
       "      <td>male</td>\n",
       "      <td>0.0</td>\n",
       "      <td>6XHVuErjQ4XNm6nDPVCxVX</td>\n",
       "      <td>0.1230</td>\n",
       "      <td>0.696</td>\n",
       "      <td>0.454</td>\n",
       "      <td>0.000000</td>\n",
       "      <td>1.0</td>\n",
       "      <td>0.1550</td>\n",
       "      <td>-6.756</td>\n",
       "      <td>...</td>\n",
       "      <td>2171.963867</td>\n",
       "      <td>2274.791016</td>\n",
       "      <td>2.825265</td>\n",
       "      <td>3.053260</td>\n",
       "      <td>4228989.00</td>\n",
       "      <td>2354418.750</td>\n",
       "      <td>1.566426</td>\n",
       "      <td>2.026457</td>\n",
       "      <td>0.079023</td>\n",
       "      <td>0.064407</td>\n",
       "    </tr>\n",
       "  </tbody>\n",
       "</table>\n",
       "<p>19918 rows × 99 columns</p>\n",
       "</div>"
      ],
      "text/plain": [
       "       gender  falsetto              spotify_id  acousticness  danceability  \\\n",
       "0        male       0.0  5g5EdgkfKVUceOTJtm0Kel        0.5730         0.487   \n",
       "1        male       0.0  62GYoGszQfROZswLee6W3O        0.3140         0.850   \n",
       "2        male       0.0  2nWHzbBWBOePUvAImQv2So        0.0317         0.878   \n",
       "3      female       0.0  6Llr9PVC1cirKUwu7Fle83        0.6030         0.505   \n",
       "4        male       0.0  6NF8MZ2trxckVBr82pyyPt        0.7190         0.544   \n",
       "...       ...       ...                     ...           ...           ...   \n",
       "19965    male       0.0  4ANFPo7dzs2DdPuONXC9bp        0.0091         0.881   \n",
       "19966    male       0.0  2QEnZJ8FwpBoyLKcFcgceT        0.0365         0.801   \n",
       "19967    male       0.0  3xEozpt8pAptvpH69iJhOw        0.7860         0.434   \n",
       "19968    male       0.0  0DiDStADDVh3SvAsoJAFMk        0.1080         0.795   \n",
       "19969    male       0.0  6XHVuErjQ4XNm6nDPVCxVX        0.1230         0.696   \n",
       "\n",
       "       energy  instrumentalness   key  liveness  loudness  ...  \\\n",
       "0       0.192          0.000003   1.0    0.0759   -17.308  ...   \n",
       "1       0.466          0.023400   1.0    0.1290   -15.673  ...   \n",
       "2       0.951          0.544000   7.0    0.0614    -5.077  ...   \n",
       "3       0.625          0.000040   5.0    0.0823    -8.195  ...   \n",
       "4       0.425          0.018600  10.0    0.9640   -10.231  ...   \n",
       "...       ...               ...   ...       ...       ...  ...   \n",
       "19965   0.549          0.000000  10.0    0.1370    -5.589  ...   \n",
       "19966   0.774          0.000003   1.0    0.1140    -5.125  ...   \n",
       "19967   0.314          0.000000  10.0    0.1630    -7.780  ...   \n",
       "19968   0.496          0.000000   0.0    0.0645    -5.883  ...   \n",
       "19969   0.454          0.000000   1.0    0.1550    -6.756  ...   \n",
       "\n",
       "       lowlevel.spectral_rolloff.mean  lowlevel.spectral_rolloff.stdev  \\\n",
       "0                         1971.881714                      2904.578125   \n",
       "1                         2611.819824                      2596.150146   \n",
       "2                         9238.177734                      7254.523926   \n",
       "3                         2351.235840                      2622.513428   \n",
       "4                         4418.749023                      4766.960449   \n",
       "...                               ...                              ...   \n",
       "19965                     2941.687500                      2695.421143   \n",
       "19966                     2758.055908                      2346.302490   \n",
       "19967                     1763.226318                      1430.873047   \n",
       "19968                     2566.776855                      2540.895264   \n",
       "19969                     2171.963867                      2274.791016   \n",
       "\n",
       "       lowlevel.spectral_skewness.mean  lowlevel.spectral_skewness.stdev  \\\n",
       "0                             2.766868                          2.309679   \n",
       "1                             1.852206                          1.690892   \n",
       "2                             4.492148                          4.754400   \n",
       "3                             2.823243                          3.105695   \n",
       "4                             3.549010                          3.535505   \n",
       "...                                ...                               ...   \n",
       "19965                         1.662005                          1.671863   \n",
       "19966                         1.758831                          2.122977   \n",
       "19967                         2.420862                          1.929476   \n",
       "19968                         1.707363                          1.742358   \n",
       "19969                         2.825265                          3.053260   \n",
       "\n",
       "       lowlevel.spectral_spread.mean  lowlevel.spectral_spread.stdev  \\\n",
       "0                         4682942.50                     2566181.250   \n",
       "1                         4348480.50                     2316541.000   \n",
       "2                         4727808.50                     4539257.000   \n",
       "3                         3685186.50                     2683900.000   \n",
       "4                         3004675.25                     2536691.750   \n",
       "...                              ...                             ...   \n",
       "19965                     4555844.50                     2208549.750   \n",
       "19966                     3333951.25                     1697798.375   \n",
       "19967                     3221035.00                     1425182.125   \n",
       "19968                     4678761.50                     2182918.250   \n",
       "19969                     4228989.00                     2354418.750   \n",
       "\n",
       "       lowlevel.spectral_strongpeak.mean  lowlevel.spectral_strongpeak.stdev  \\\n",
       "0                               1.312214                            1.776766   \n",
       "1                               1.372175                            1.901234   \n",
       "2                               0.701681                            1.969949   \n",
       "3                               1.594873                            2.358309   \n",
       "4                               0.989734                            2.951486   \n",
       "...                                  ...                                 ...   \n",
       "19965                           1.426403                            1.851251   \n",
       "19966                           1.092398                            1.439533   \n",
       "19967                           2.114549                            2.202738   \n",
       "19968                           1.449685                            1.619190   \n",
       "19969                           1.566426                            2.026457   \n",
       "\n",
       "       lowlevel.zerocrossingrate.mean  lowlevel.zerocrossingrate.stdev  \n",
       "0                            0.073260                         0.091557  \n",
       "1                            0.093488                         0.074530  \n",
       "2                            0.138516                         0.136973  \n",
       "3                            0.086646                         0.088080  \n",
       "4                            0.123163                         0.092290  \n",
       "...                               ...                              ...  \n",
       "19965                        0.101371                         0.076952  \n",
       "19966                        0.094051                         0.067690  \n",
       "19967                        0.064748                         0.045259  \n",
       "19968                        0.097777                         0.080012  \n",
       "19969                        0.079023                         0.064407  \n",
       "\n",
       "[19918 rows x 99 columns]"
      ]
     },
     "execution_count": 5,
     "metadata": {},
     "output_type": "execute_result"
    }
   ],
   "source": [
    "df.dropna(subset=['lowlevel.hfc.stdev'],  inplace=True)\n",
    "df"
   ]
  },
  {
   "cell_type": "markdown",
   "metadata": {
    "id": "8A94KWUn01Zj"
   },
   "source": [
    "### See distributions"
   ]
  },
  {
   "cell_type": "code",
   "execution_count": 6,
   "metadata": {
    "colab": {
     "base_uri": "https://localhost:8080/"
    },
    "id": "EVP0tN7AwreM",
    "outputId": "e0e9b9f5-ceee-4fc6-c349-0edf41b07b55"
   },
   "outputs": [
    {
     "data": {
      "text/plain": [
       "0.0     16055\n",
       "2.0      1510\n",
       "3.0       884\n",
       "4.0       736\n",
       "5.0       266\n",
       "6.0       184\n",
       "7.0        94\n",
       "8.0        84\n",
       "10.0       74\n",
       "9.0        31\n",
       "Name: falsetto, dtype: int64"
      ]
     },
     "execution_count": 6,
     "metadata": {},
     "output_type": "execute_result"
    }
   ],
   "source": [
    "df['falsetto'].value_counts()"
   ]
  },
  {
   "cell_type": "code",
   "execution_count": 7,
   "metadata": {
    "colab": {
     "base_uri": "https://localhost:8080/",
     "height": 325
    },
    "id": "XbWf3lli_4ja",
    "outputId": "2cc41689-ff5c-4923-ae83-726069d3792e"
   },
   "outputs": [
    {
     "data": {
      "text/plain": [
       "<AxesSubplot:title={'center':'Class distribution'}, xlabel='Falsetto value', ylabel='Occurencies number'>"
      ]
     },
     "execution_count": 7,
     "metadata": {},
     "output_type": "execute_result"
    },
    {
     "data": {
      "image/png": "[encoded data removed]",
      "text/plain": [
       "<Figure size 432x288 with 1 Axes>"
      ]
     },
     "metadata": {
      "needs_background": "light"
     },
     "output_type": "display_data"
    }
   ],
   "source": [
    "values = df['falsetto'].value_counts().sort_index()\n",
    "values.plot.bar(**{'title': 'Class distribution', 'xlabel': 'Falsetto value', 'ylabel':'Occurencies number'})"
   ]
  },
  {
   "cell_type": "markdown",
   "metadata": {
    "id": "GoBGKthwAAMz"
   },
   "source": [
    "## Classifiers using the entire dataset"
   ]
  },
  {
   "cell_type": "markdown",
   "metadata": {
    "id": "F-Xbezd5AsTS"
   },
   "source": [
    "### SMOTE oversampling"
   ]
  },
  {
   "cell_type": "markdown",
   "metadata": {
    "id": "laNmFffdIYLX"
   },
   "source": [
    "#### Decision Tree"
   ]
  },
  {
   "cell_type": "code",
   "execution_count": 84,
   "metadata": {
    "colab": {
     "base_uri": "https://localhost:8080/"
    },
    "id": "tMY0N1cX_9ds",
    "outputId": "40852212-cab9-4478-dcdc-64b0fbf7e6b6"
   },
   "outputs": [
    {
     "name": "stderr",
     "output_type": "stream",
     "text": [
      "/usr/local/lib/python3.7/dist-packages/sklearn/utils/deprecation.py:87: FutureWarning: Function safe_indexing is deprecated; safe_indexing is deprecated in version 0.22 and will be removed in version 0.24.\n",
      "  warnings.warn(msg, category=FutureWarning)\n"
     ]
    }
   ],
   "source": [
    "y,X = get_y_and_X(df)\n",
    "enc = OneHotEncoder()\n",
    "enc_X = enc.fit_transform(X)\n",
    "X_train, X_test, y_train, y_test = train_test_split(enc_X, y, test_size=0.33, random_state=13)\n",
    "\n",
    "oversample = SMOTE()\n",
    "X_train, y_train = oversample.fit_resample(X_train, y_train)\n"
   ]
  },
  {
   "cell_type": "code",
   "execution_count": 85,
   "metadata": {
    "id": "3CuS60poAcCB"
   },
   "outputs": [],
   "source": [
    "dt_clf = DecisionTreeClassifier(random_state=0)\n",
    "dt_clf.fit(X_train, y_train)\n",
    "y_pred = dt_clf.predict(X_test)"
   ]
  },
  {
   "cell_type": "code",
   "execution_count": 86,
   "metadata": {
    "colab": {
     "base_uri": "https://localhost:8080/"
    },
    "id": "7np_eQbjAfuO",
    "outputId": "72dae6eb-b3b0-4149-cc0c-6270a9e8c4d3"
   },
   "outputs": [
    {
     "name": "stdout",
     "output_type": "stream",
     "text": [
      "Accuracy score: 0.7541345093715546\n",
      "F1 Macro-Score: 0.09817477985253972\n",
      "F1 Weighted-Score: 0.6988651302332303\n"
     ]
    }
   ],
   "source": [
    "show_metrics(y_test, y_pred)"
   ]
  },
  {
   "cell_type": "code",
   "execution_count": 87,
   "metadata": {
    "colab": {
     "base_uri": "https://localhost:8080/"
    },
    "id": "5XHAI8AjAqUb",
    "outputId": "ad0dde15-6857-437a-a9af-7d10ef99b527"
   },
   "outputs": [
    {
     "data": {
      "text/plain": [
       "array([0.9362239 , 0.02325581, 0.03292181, 0.02427184, 0.        ,\n",
       "       0.        , 0.        , 0.        , 0.        , 0.        ])"
      ]
     },
     "execution_count": 87,
     "metadata": {
      "tags": []
     },
     "output_type": "execute_result"
    }
   ],
   "source": [
    "matrix = confusion_matrix(y_test, y_pred)\n",
    "matrix.diagonal()/matrix.sum(axis=1)"
   ]
  },
  {
   "cell_type": "code",
   "execution_count": 88,
   "metadata": {
    "colab": {
     "base_uri": "https://localhost:8080/",
     "height": 289
    },
    "id": "HUKHQkelAqw6",
    "outputId": "25dbb0cd-5c3c-4896-9759-de79f9455897"
   },
   "outputs": [
    {
     "data": {
      "image/png": "[encoded data removed]",
      "text/plain": [
       "<Figure size 432x288 with 2 Axes>"
      ]
     },
     "metadata": {
      "needs_background": "light",
      "tags": []
     },
     "output_type": "display_data"
    }
   ],
   "source": [
    "show_confusion_matrix(y_test, y_pred)"
   ]
  },
  {
   "cell_type": "markdown",
   "metadata": {
    "id": "fFcGPQgUEBLh"
   },
   "source": [
    "#### Using Random Forest"
   ]
  },
  {
   "cell_type": "code",
   "execution_count": 89,
   "metadata": {
    "id": "zQBhP9RsEEvA"
   },
   "outputs": [],
   "source": [
    "rf_clf = RandomForestClassifier(random_state=13)\n",
    "rf_clf.fit(X_train, y_train)\n",
    "y_pred = rf_clf.predict(X_test)"
   ]
  },
  {
   "cell_type": "code",
   "execution_count": 90,
   "metadata": {
    "colab": {
     "base_uri": "https://localhost:8080/"
    },
    "id": "mpnE8Tt1EMb7",
    "outputId": "f452e3ce-61c6-41a8-a8e1-80acaaa19be4"
   },
   "outputs": [
    {
     "name": "stdout",
     "output_type": "stream",
     "text": [
      "Accuracy score: 0.8009922822491731\n",
      "F1 Macro-Score: 0.08895010713192532\n",
      "F1 Weighted-Score: 0.7124834931790931\n"
     ]
    }
   ],
   "source": [
    "show_metrics(y_test, y_pred)"
   ]
  },
  {
   "cell_type": "code",
   "execution_count": 91,
   "metadata": {
    "colab": {
     "base_uri": "https://localhost:8080/"
    },
    "id": "W4dUrSSGERLJ",
    "outputId": "bd012bf6-0915-456e-dd4b-421e5f9a5b09"
   },
   "outputs": [
    {
     "data": {
      "text/plain": [
       "array([1., 0., 0., 0., 0., 0., 0., 0., 0., 0.])"
      ]
     },
     "execution_count": 91,
     "metadata": {
      "tags": []
     },
     "output_type": "execute_result"
    }
   ],
   "source": [
    "matrix = confusion_matrix(y_test, y_pred)\n",
    "matrix.diagonal()/matrix.sum(axis=1)"
   ]
  },
  {
   "cell_type": "code",
   "execution_count": 92,
   "metadata": {
    "colab": {
     "base_uri": "https://localhost:8080/",
     "height": 289
    },
    "id": "F9visRokETIZ",
    "outputId": "e3d10117-5041-4090-ff06-788000f21796"
   },
   "outputs": [
    {
     "data": {
      "image/png": "[encoded data removed]",
      "text/plain": [
       "<Figure size 432x288 with 2 Axes>"
      ]
     },
     "metadata": {
      "needs_background": "light",
      "tags": []
     },
     "output_type": "display_data"
    }
   ],
   "source": [
    "show_confusion_matrix(y_test, y_pred)"
   ]
  },
  {
   "cell_type": "markdown",
   "metadata": {
    "id": "NWK0EJKTFZid"
   },
   "source": [
    "### SMOTEENN resampling "
   ]
  },
  {
   "cell_type": "code",
   "execution_count": 93,
   "metadata": {
    "id": "1KSThgfPFiSB"
   },
   "outputs": [],
   "source": [
    "y,X = get_y_and_X(df)\n",
    "enc = OneHotEncoder()\n",
    "enc_X = enc.fit_transform(X)\n",
    "X_train, X_test, y_train, y_test = train_test_split(enc_X, y, test_size=0.33, random_state=13)"
   ]
  },
  {
   "cell_type": "code",
   "execution_count": 94,
   "metadata": {
    "colab": {
     "base_uri": "https://localhost:8080/"
    },
    "id": "zAhipXX9GFLK",
    "outputId": "059191e6-dd44-4704-8f61-8787d41050a9"
   },
   "outputs": [
    {
     "name": "stderr",
     "output_type": "stream",
     "text": [
      "/usr/local/lib/python3.7/dist-packages/sklearn/utils/deprecation.py:87: FutureWarning: Function safe_indexing is deprecated; safe_indexing is deprecated in version 0.22 and will be removed in version 0.24.\n",
      "  warnings.warn(msg, category=FutureWarning)\n"
     ]
    }
   ],
   "source": [
    "resample = SMOTEENN()\n",
    "X_train, y_train = resample.fit_resample(X_train, y_train)"
   ]
  },
  {
   "cell_type": "markdown",
   "metadata": {
    "id": "4jQKN4nVIkKM"
   },
   "source": [
    "#### Decision Tree"
   ]
  },
  {
   "cell_type": "code",
   "execution_count": 95,
   "metadata": {
    "id": "cdMEhEiJGGH-"
   },
   "outputs": [],
   "source": [
    "#Decision Tree\n",
    "dt_clf2 = DecisionTreeClassifier(random_state=1)\n",
    "dt_clf2.fit(X_train, y_train)\n",
    "y_pred = dt_clf2.predict(X_test)"
   ]
  },
  {
   "cell_type": "code",
   "execution_count": 96,
   "metadata": {
    "colab": {
     "base_uri": "https://localhost:8080/"
    },
    "id": "XPf7NRP4GNNi",
    "outputId": "602111a1-c604-461a-f71d-e4f7be8c6f52"
   },
   "outputs": [
    {
     "name": "stdout",
     "output_type": "stream",
     "text": [
      "Accuracy score: 0.06780595369349504\n",
      "F1 Macro-Score: 0.032343001091052925\n",
      "F1 Weighted-Score: 0.017990549756774134\n"
     ]
    }
   ],
   "source": [
    "show_metrics(y_test, y_pred)"
   ]
  },
  {
   "cell_type": "code",
   "execution_count": 97,
   "metadata": {
    "colab": {
     "base_uri": "https://localhost:8080/"
    },
    "id": "nekNoKbSGQFU",
    "outputId": "72dd048e-5666-4af0-9404-801c1ba9fb83"
   },
   "outputs": [
    {
     "data": {
      "text/plain": [
       "array([0.        , 0.66976744, 0.16049383, 0.19902913, 0.        ,\n",
       "       0.02083333, 0.        , 0.        , 0.        , 0.        ])"
      ]
     },
     "execution_count": 97,
     "metadata": {
      "tags": []
     },
     "output_type": "execute_result"
    }
   ],
   "source": [
    "matrix = confusion_matrix(y_test, y_pred)\n",
    "matrix.diagonal()/matrix.sum(axis=1)"
   ]
  },
  {
   "cell_type": "code",
   "execution_count": 98,
   "metadata": {
    "colab": {
     "base_uri": "https://localhost:8080/",
     "height": 289
    },
    "id": "i31L4BaSGR_S",
    "outputId": "e02f8baa-a183-4a72-e2d0-a4f055b02a42"
   },
   "outputs": [
    {
     "data": {
      "image/png": "[encoded data removed]",
      "text/plain": [
       "<Figure size 432x288 with 2 Axes>"
      ]
     },
     "metadata": {
      "needs_background": "light",
      "tags": []
     },
     "output_type": "display_data"
    }
   ],
   "source": [
    "show_confusion_matrix(y_test, y_pred)"
   ]
  },
  {
   "cell_type": "markdown",
   "metadata": {
    "id": "2Z69nIVMIoHT"
   },
   "source": [
    "#### Random Forest"
   ]
  },
  {
   "cell_type": "code",
   "execution_count": 99,
   "metadata": {
    "id": "Lh-EFi8NGT7x"
   },
   "outputs": [],
   "source": [
    "#Random Forest\n",
    "\n",
    "rf_clf2 = RandomForestClassifier(random_state=1)\n",
    "rf_clf2.fit(X_train, y_train)\n",
    "y_pred = rf_clf2.predict(X_test)"
   ]
  },
  {
   "cell_type": "code",
   "execution_count": 100,
   "metadata": {
    "colab": {
     "base_uri": "https://localhost:8080/"
    },
    "id": "Iw1xTGyuGajs",
    "outputId": "36bdfa08-52da-480d-f678-ca995dcc342a"
   },
   "outputs": [
    {
     "name": "stdout",
     "output_type": "stream",
     "text": [
      "Accuracy score: 0.07901506798970967\n",
      "F1 Macro-Score: 0.014645776566757493\n",
      "F1 Weighted-Score: 0.0115723703118444\n"
     ]
    }
   ],
   "source": [
    "show_metrics(y_test, y_pred)"
   ]
  },
  {
   "cell_type": "code",
   "execution_count": 101,
   "metadata": {
    "colab": {
     "base_uri": "https://localhost:8080/"
    },
    "id": "feBZtd9rGcL6",
    "outputId": "8fc73a95-5b18-40f9-f44f-6dcfaecb4e63"
   },
   "outputs": [
    {
     "data": {
      "text/plain": [
       "array([0., 1., 0., 0., 0., 0., 0., 0., 0., 0.])"
      ]
     },
     "execution_count": 101,
     "metadata": {
      "tags": []
     },
     "output_type": "execute_result"
    }
   ],
   "source": [
    "matrix = confusion_matrix(y_test, y_pred)\n",
    "matrix.diagonal()/matrix.sum(axis=1)"
   ]
  },
  {
   "cell_type": "code",
   "execution_count": 102,
   "metadata": {
    "colab": {
     "base_uri": "https://localhost:8080/",
     "height": 289
    },
    "id": "lzqBLAWnGeD0",
    "outputId": "3076a139-3503-48f5-e1f0-a52381483f65"
   },
   "outputs": [
    {
     "data": {
      "image/png": "[encoded data removed]",
      "text/plain": [
       "<Figure size 432x288 with 2 Axes>"
      ]
     },
     "metadata": {
      "needs_background": "light",
      "tags": []
     },
     "output_type": "display_data"
    }
   ],
   "source": [
    "show_confusion_matrix(y_test, y_pred)"
   ]
  },
  {
   "cell_type": "markdown",
   "metadata": {
    "id": "YSSMqINOGrLR"
   },
   "source": [
    "### SMOTE `auto`"
   ]
  },
  {
   "cell_type": "code",
   "execution_count": 103,
   "metadata": {
    "id": "lEpq3NeXGw_Y"
   },
   "outputs": [],
   "source": [
    "y,X = get_y_and_X(df)\n",
    "enc = OneHotEncoder()\n",
    "enc_X = enc.fit_transform(X)\n",
    "X_train, X_test, y_train, y_test = train_test_split(enc_X, y, test_size=0.33, random_state=11)"
   ]
  },
  {
   "cell_type": "code",
   "execution_count": 104,
   "metadata": {
    "colab": {
     "base_uri": "https://localhost:8080/"
    },
    "id": "v_a3FmT3Gwz6",
    "outputId": "09ce04c6-f376-4b1c-de70-f3f5c959da39"
   },
   "outputs": [
    {
     "name": "stderr",
     "output_type": "stream",
     "text": [
      "/usr/local/lib/python3.7/dist-packages/sklearn/utils/deprecation.py:87: FutureWarning: Function safe_indexing is deprecated; safe_indexing is deprecated in version 0.22 and will be removed in version 0.24.\n",
      "  warnings.warn(msg, category=FutureWarning)\n"
     ]
    }
   ],
   "source": [
    "oversample = SMOTE(sampling_strategy='auto', k_neighbors=8, random_state=2)\n",
    "X_train, y_train = oversample.fit_resample(X_train, y_train)"
   ]
  },
  {
   "cell_type": "markdown",
   "metadata": {
    "id": "-aZCtjbdIsHE"
   },
   "source": [
    "#### Decision Tree"
   ]
  },
  {
   "cell_type": "code",
   "execution_count": 105,
   "metadata": {
    "id": "nw4qftZMGwnJ"
   },
   "outputs": [],
   "source": [
    "#Decision Tree\n",
    "dt_clf3 = DecisionTreeClassifier(random_state=6)\n",
    "dt_clf3.fit(X_train, y_train)\n",
    "y_pred = dt_clf3.predict(X_test)"
   ]
  },
  {
   "cell_type": "code",
   "execution_count": 106,
   "metadata": {
    "colab": {
     "base_uri": "https://localhost:8080/"
    },
    "id": "sDzqPMNrHXqO",
    "outputId": "608145cc-7ec2-4de0-f704-b5b4de93a1c6"
   },
   "outputs": [
    {
     "name": "stdout",
     "output_type": "stream",
     "text": [
      "Accuracy score: 0.7499081220139655\n",
      "F1 Macro-Score: 0.09920582481982759\n",
      "F1 Weighted-Score: 0.6992587916758487\n"
     ]
    }
   ],
   "source": [
    "show_metrics(y_test, y_pred)"
   ]
  },
  {
   "cell_type": "code",
   "execution_count": 107,
   "metadata": {
    "colab": {
     "base_uri": "https://localhost:8080/"
    },
    "id": "R--9aUkMHXdf",
    "outputId": "2636f93f-48e7-4ba4-a7a0-c97611f5c295"
   },
   "outputs": [
    {
     "data": {
      "text/plain": [
       "array([0.92808062, 0.04567308, 0.01646091, 0.02739726, 0.        ,\n",
       "       0.        , 0.        , 0.        , 0.        , 0.        ])"
      ]
     },
     "execution_count": 107,
     "metadata": {
      "tags": []
     },
     "output_type": "execute_result"
    }
   ],
   "source": [
    "matrix = confusion_matrix(y_test, y_pred)\n",
    "matrix.diagonal()/matrix.sum(axis=1)"
   ]
  },
  {
   "cell_type": "code",
   "execution_count": 108,
   "metadata": {
    "colab": {
     "base_uri": "https://localhost:8080/",
     "height": 289
    },
    "id": "qbRUlwo5HXQt",
    "outputId": "8965590c-cd40-460d-c709-ac57c0c35abf"
   },
   "outputs": [
    {
     "data": {
      "image/png": "[encoded data removed]",
      "text/plain": [
       "<Figure size 432x288 with 2 Axes>"
      ]
     },
     "metadata": {
      "needs_background": "light",
      "tags": []
     },
     "output_type": "display_data"
    }
   ],
   "source": [
    "show_confusion_matrix(y_test, y_pred)"
   ]
  },
  {
   "cell_type": "markdown",
   "metadata": {
    "id": "J0kUfv4yItup"
   },
   "source": [
    "#### Random Forest"
   ]
  },
  {
   "cell_type": "code",
   "execution_count": 109,
   "metadata": {
    "id": "5GDRaJ1zHckH"
   },
   "outputs": [],
   "source": [
    "#Random Forest\n",
    "rf_clf3 = RandomForestClassifier(random_state=6)\n",
    "rf_clf3.fit(X_train, y_train)\n",
    "y_pred = rf_clf3.predict(X_test)"
   ]
  },
  {
   "cell_type": "code",
   "execution_count": 110,
   "metadata": {
    "colab": {
     "base_uri": "https://localhost:8080/"
    },
    "id": "xhHursXPHlla",
    "outputId": "f7975ba3-3e68-45ff-f41e-5d38f49f53f9"
   },
   "outputs": [
    {
     "name": "stdout",
     "output_type": "stream",
     "text": [
      "Accuracy score: 0.8022785740536568\n",
      "F1 Macro-Score: 0.08902936378466557\n",
      "F1 Weighted-Score: 0.7142635102606576\n"
     ]
    }
   ],
   "source": [
    "show_metrics(y_test, y_pred)"
   ]
  },
  {
   "cell_type": "code",
   "execution_count": 111,
   "metadata": {
    "colab": {
     "base_uri": "https://localhost:8080/"
    },
    "id": "KH1SEHz3HcYl",
    "outputId": "b903034d-e0bb-4448-fef8-4be96ec5853d"
   },
   "outputs": [
    {
     "data": {
      "text/plain": [
       "array([1., 0., 0., 0., 0., 0., 0., 0., 0., 0.])"
      ]
     },
     "execution_count": 111,
     "metadata": {
      "tags": []
     },
     "output_type": "execute_result"
    }
   ],
   "source": [
    "matrix = confusion_matrix(y_test, y_pred)\n",
    "matrix.diagonal()/matrix.sum(axis=1)"
   ]
  },
  {
   "cell_type": "code",
   "execution_count": 112,
   "metadata": {
    "colab": {
     "base_uri": "https://localhost:8080/",
     "height": 289
    },
    "id": "0RDhDN7CHpJF",
    "outputId": "1c6bba19-2eca-42ff-b9d4-1b9a3cc4bcc9"
   },
   "outputs": [
    {
     "data": {
      "image/png": "[encoded data removed]",
      "text/plain": [
       "<Figure size 432x288 with 2 Axes>"
      ]
     },
     "metadata": {
      "needs_background": "light",
      "tags": []
     },
     "output_type": "display_data"
    }
   ],
   "source": [
    "show_confusion_matrix(y_test, y_pred)"
   ]
  },
  {
   "cell_type": "markdown",
   "metadata": {
    "id": "9NTNRRIAIwgm"
   },
   "source": [
    "#### Balanced Decision Tree "
   ]
  },
  {
   "cell_type": "code",
   "execution_count": 113,
   "metadata": {
    "id": "T2mgy3k-Hyxr"
   },
   "outputs": [],
   "source": [
    "#DTree Balanced\n",
    "dt_clf4 = DecisionTreeClassifier(random_state=6, class_weight=\"balanced\")\n",
    "dt_clf4.fit(X_train, y_train)\n",
    "y_pred = dt_clf4.predict(X_test)"
   ]
  },
  {
   "cell_type": "code",
   "execution_count": 114,
   "metadata": {
    "colab": {
     "base_uri": "https://localhost:8080/"
    },
    "id": "JIjYoEX-H5Y5",
    "outputId": "db6a8146-5229-46e4-eedc-75ff3ab03499"
   },
   "outputs": [
    {
     "name": "stdout",
     "output_type": "stream",
     "text": [
      "Accuracy score: 0.7499081220139655\n",
      "F1 Macro-Score: 0.09920582481982759\n",
      "F1 Weighted-Score: 0.6992587916758487\n"
     ]
    }
   ],
   "source": [
    "show_metrics(y_test, y_pred)"
   ]
  },
  {
   "cell_type": "code",
   "execution_count": 115,
   "metadata": {
    "colab": {
     "base_uri": "https://localhost:8080/"
    },
    "id": "qsmEk26BH5OU",
    "outputId": "385df78d-2b2c-4e32-ac3b-6d49c8ebd5e5"
   },
   "outputs": [
    {
     "data": {
      "text/plain": [
       "array([0.92808062, 0.04567308, 0.01646091, 0.02739726, 0.        ,\n",
       "       0.        , 0.        , 0.        , 0.        , 0.        ])"
      ]
     },
     "execution_count": 115,
     "metadata": {
      "tags": []
     },
     "output_type": "execute_result"
    }
   ],
   "source": [
    "matrix = confusion_matrix(y_test, y_pred)\n",
    "matrix.diagonal()/matrix.sum(axis=1)"
   ]
  },
  {
   "cell_type": "code",
   "execution_count": 116,
   "metadata": {
    "colab": {
     "base_uri": "https://localhost:8080/",
     "height": 289
    },
    "id": "y5KeafOuH5D9",
    "outputId": "2f7ce6f7-b5c6-457a-9cd8-94a5aae3d18b"
   },
   "outputs": [
    {
     "data": {
      "image/png": "[encoded data removed]",
      "text/plain": [
       "<Figure size 432x288 with 2 Axes>"
      ]
     },
     "metadata": {
      "needs_background": "light",
      "tags": []
     },
     "output_type": "display_data"
    }
   ],
   "source": [
    "show_confusion_matrix(y_test, y_pred)"
   ]
  },
  {
   "cell_type": "markdown",
   "metadata": {
    "id": "hSP3AHbIIzxQ"
   },
   "source": [
    "#### Balanced Entropy Decision Tree"
   ]
  },
  {
   "cell_type": "code",
   "execution_count": 117,
   "metadata": {
    "id": "72g5JT87H45l"
   },
   "outputs": [],
   "source": [
    "#DTree Balanced Entropy\n",
    "dt_clf5 = DecisionTreeClassifier(random_state=8, class_weight=\"balanced\", criterion=\"entropy\")\n",
    "dt_clf5.fit(X_train, y_train)\n",
    "y_pred = dt_clf5.predict(X_test)"
   ]
  },
  {
   "cell_type": "code",
   "execution_count": 118,
   "metadata": {
    "colab": {
     "base_uri": "https://localhost:8080/"
    },
    "id": "z-zMDaVwIMPi",
    "outputId": "e2b63289-c655-4fc3-f0c6-a64cc40698e9"
   },
   "outputs": [
    {
     "name": "stdout",
     "output_type": "stream",
     "text": [
      "Accuracy score: 0.7684674751929438\n",
      "F1 Macro-Score: 0.09429292266582912\n",
      "F1 Weighted-Score: 0.7042347872267737\n"
     ]
    }
   ],
   "source": [
    "show_metrics(y_test, y_pred)"
   ]
  },
  {
   "cell_type": "code",
   "execution_count": 119,
   "metadata": {
    "colab": {
     "base_uri": "https://localhost:8080/"
    },
    "id": "7FNHDx6zIMDr",
    "outputId": "2653fe31-7bd9-4084-9115-32ba4e54266e"
   },
   "outputs": [
    {
     "data": {
      "text/plain": [
       "array([0.95442052, 0.02644231, 0.00411523, 0.01369863, 0.        ,\n",
       "       0.        , 0.        , 0.        , 0.        , 0.        ])"
      ]
     },
     "execution_count": 119,
     "metadata": {
      "tags": []
     },
     "output_type": "execute_result"
    }
   ],
   "source": [
    "matrix = confusion_matrix(y_test, y_pred)\n",
    "matrix.diagonal()/matrix.sum(axis=1)"
   ]
  },
  {
   "cell_type": "code",
   "execution_count": 120,
   "metadata": {
    "colab": {
     "base_uri": "https://localhost:8080/",
     "height": 289
    },
    "id": "O77P9WJaILqR",
    "outputId": "5b61d078-d73b-4bfe-b647-ef0b5c38bd45"
   },
   "outputs": [
    {
     "data": {
      "image/png": "[encoded data removed]",
      "text/plain": [
       "<Figure size 432x288 with 2 Axes>"
      ]
     },
     "metadata": {
      "needs_background": "light",
      "tags": []
     },
     "output_type": "display_data"
    }
   ],
   "source": [
    "show_confusion_matrix(y_test, y_pred)"
   ]
  },
  {
   "cell_type": "markdown",
   "metadata": {
    "id": "_3MgOJD41mzo"
   },
   "source": [
    "## Manually reduce number of `falsetto == 0`"
   ]
  },
  {
   "cell_type": "code",
   "execution_count": 8,
   "metadata": {
    "colab": {
     "base_uri": "https://localhost:8080/"
    },
    "id": "2VCL8gADxyfy",
    "outputId": "192176c4-b05a-45bc-c05e-6c6973d62147"
   },
   "outputs": [
    {
     "data": {
      "text/plain": [
       "Int64Index([    0,     1,     2,     3,     4,     5,     6,     7,     8,\n",
       "               10,\n",
       "            ...\n",
       "            19958, 19959, 19962, 19963, 19964, 19965, 19966, 19967, 19968,\n",
       "            19969],\n",
       "           dtype='int64', length=16055)"
      ]
     },
     "execution_count": 8,
     "metadata": {},
     "output_type": "execute_result"
    }
   ],
   "source": [
    "#Get falsetto == 0\n",
    "\n",
    "index_names = df[df['falsetto'] == 0].index\n",
    "index_names"
   ]
  },
  {
   "cell_type": "code",
   "execution_count": 9,
   "metadata": {
    "colab": {
     "base_uri": "https://localhost:8080/",
     "height": 442
    },
    "id": "5Eid3LHEzHMF",
    "outputId": "cab842de-ea3b-44d8-d942-3d680818ad6c"
   },
   "outputs": [
    {
     "data": {
      "text/html": [
       "<div>\n",
       "<style scoped>\n",
       "    .dataframe tbody tr th:only-of-type {\n",
       "        vertical-align: middle;\n",
       "    }\n",
       "\n",
       "    .dataframe tbody tr th {\n",
       "        vertical-align: top;\n",
       "    }\n",
       "\n",
       "    .dataframe thead th {\n",
       "        text-align: right;\n",
       "    }\n",
       "</style>\n",
       "<table border=\"1\" class=\"dataframe\">\n",
       "  <thead>\n",
       "    <tr style=\"text-align: right;\">\n",
       "      <th></th>\n",
       "      <th>gender</th>\n",
       "      <th>falsetto</th>\n",
       "      <th>spotify_id</th>\n",
       "      <th>acousticness</th>\n",
       "      <th>danceability</th>\n",
       "      <th>energy</th>\n",
       "      <th>instrumentalness</th>\n",
       "      <th>key</th>\n",
       "      <th>liveness</th>\n",
       "      <th>loudness</th>\n",
       "      <th>...</th>\n",
       "      <th>lowlevel.spectral_rolloff.mean</th>\n",
       "      <th>lowlevel.spectral_rolloff.stdev</th>\n",
       "      <th>lowlevel.spectral_skewness.mean</th>\n",
       "      <th>lowlevel.spectral_skewness.stdev</th>\n",
       "      <th>lowlevel.spectral_spread.mean</th>\n",
       "      <th>lowlevel.spectral_spread.stdev</th>\n",
       "      <th>lowlevel.spectral_strongpeak.mean</th>\n",
       "      <th>lowlevel.spectral_strongpeak.stdev</th>\n",
       "      <th>lowlevel.zerocrossingrate.mean</th>\n",
       "      <th>lowlevel.zerocrossingrate.stdev</th>\n",
       "    </tr>\n",
       "  </thead>\n",
       "  <tbody>\n",
       "    <tr>\n",
       "      <th>9</th>\n",
       "      <td>male</td>\n",
       "      <td>2.0</td>\n",
       "      <td>4xbJyF9RDa1VLoZNoCFy1r</td>\n",
       "      <td>0.4930</td>\n",
       "      <td>0.500</td>\n",
       "      <td>0.489</td>\n",
       "      <td>0.000130</td>\n",
       "      <td>2.0</td>\n",
       "      <td>0.1630</td>\n",
       "      <td>-11.428</td>\n",
       "      <td>...</td>\n",
       "      <td>4735.147949</td>\n",
       "      <td>3267.810791</td>\n",
       "      <td>1.116404</td>\n",
       "      <td>1.886502</td>\n",
       "      <td>4561006.00</td>\n",
       "      <td>2603007.000</td>\n",
       "      <td>1.443960</td>\n",
       "      <td>1.749026</td>\n",
       "      <td>0.178995</td>\n",
       "      <td>0.119499</td>\n",
       "    </tr>\n",
       "    <tr>\n",
       "      <th>15</th>\n",
       "      <td>female</td>\n",
       "      <td>4.0</td>\n",
       "      <td>6i9b14YXyWIMiQg26IWYA5</td>\n",
       "      <td>0.0370</td>\n",
       "      <td>0.604</td>\n",
       "      <td>0.549</td>\n",
       "      <td>0.000000</td>\n",
       "      <td>5.0</td>\n",
       "      <td>0.0856</td>\n",
       "      <td>-13.252</td>\n",
       "      <td>...</td>\n",
       "      <td>2836.416016</td>\n",
       "      <td>3128.354980</td>\n",
       "      <td>2.057861</td>\n",
       "      <td>1.807891</td>\n",
       "      <td>3878335.25</td>\n",
       "      <td>2358086.750</td>\n",
       "      <td>2.286654</td>\n",
       "      <td>2.462046</td>\n",
       "      <td>0.102232</td>\n",
       "      <td>0.103619</td>\n",
       "    </tr>\n",
       "    <tr>\n",
       "      <th>16</th>\n",
       "      <td>female</td>\n",
       "      <td>2.0</td>\n",
       "      <td>62QRbVm7DqR3eoqgT7pEfs</td>\n",
       "      <td>0.4750</td>\n",
       "      <td>0.408</td>\n",
       "      <td>0.511</td>\n",
       "      <td>0.000000</td>\n",
       "      <td>6.0</td>\n",
       "      <td>0.6250</td>\n",
       "      <td>-7.225</td>\n",
       "      <td>...</td>\n",
       "      <td>2104.636719</td>\n",
       "      <td>2154.778809</td>\n",
       "      <td>2.199072</td>\n",
       "      <td>1.584902</td>\n",
       "      <td>2869073.75</td>\n",
       "      <td>1492111.125</td>\n",
       "      <td>2.827456</td>\n",
       "      <td>2.472313</td>\n",
       "      <td>0.074080</td>\n",
       "      <td>0.069771</td>\n",
       "    </tr>\n",
       "    <tr>\n",
       "      <th>23</th>\n",
       "      <td>male</td>\n",
       "      <td>2.0</td>\n",
       "      <td>59HxRYpU61UgzewVxove4P</td>\n",
       "      <td>0.0300</td>\n",
       "      <td>0.721</td>\n",
       "      <td>0.507</td>\n",
       "      <td>0.000007</td>\n",
       "      <td>9.0</td>\n",
       "      <td>0.0939</td>\n",
       "      <td>-14.160</td>\n",
       "      <td>...</td>\n",
       "      <td>6266.567871</td>\n",
       "      <td>4363.871094</td>\n",
       "      <td>1.217723</td>\n",
       "      <td>1.479403</td>\n",
       "      <td>4497228.50</td>\n",
       "      <td>2384612.000</td>\n",
       "      <td>0.975161</td>\n",
       "      <td>2.004229</td>\n",
       "      <td>0.220188</td>\n",
       "      <td>0.147456</td>\n",
       "    </tr>\n",
       "    <tr>\n",
       "      <th>27</th>\n",
       "      <td>male</td>\n",
       "      <td>4.0</td>\n",
       "      <td>6igsoAR6Co9u7Rq3U7mlOD</td>\n",
       "      <td>0.0195</td>\n",
       "      <td>0.623</td>\n",
       "      <td>0.824</td>\n",
       "      <td>0.130000</td>\n",
       "      <td>6.0</td>\n",
       "      <td>0.0491</td>\n",
       "      <td>-8.971</td>\n",
       "      <td>...</td>\n",
       "      <td>3765.984375</td>\n",
       "      <td>3203.498047</td>\n",
       "      <td>1.726571</td>\n",
       "      <td>1.386702</td>\n",
       "      <td>2836681.00</td>\n",
       "      <td>1839193.250</td>\n",
       "      <td>1.518716</td>\n",
       "      <td>1.905755</td>\n",
       "      <td>0.123977</td>\n",
       "      <td>0.084495</td>\n",
       "    </tr>\n",
       "    <tr>\n",
       "      <th>...</th>\n",
       "      <td>...</td>\n",
       "      <td>...</td>\n",
       "      <td>...</td>\n",
       "      <td>...</td>\n",
       "      <td>...</td>\n",
       "      <td>...</td>\n",
       "      <td>...</td>\n",
       "      <td>...</td>\n",
       "      <td>...</td>\n",
       "      <td>...</td>\n",
       "      <td>...</td>\n",
       "      <td>...</td>\n",
       "      <td>...</td>\n",
       "      <td>...</td>\n",
       "      <td>...</td>\n",
       "      <td>...</td>\n",
       "      <td>...</td>\n",
       "      <td>...</td>\n",
       "      <td>...</td>\n",
       "      <td>...</td>\n",
       "      <td>...</td>\n",
       "    </tr>\n",
       "    <tr>\n",
       "      <th>19965</th>\n",
       "      <td>male</td>\n",
       "      <td>0.0</td>\n",
       "      <td>4ANFPo7dzs2DdPuONXC9bp</td>\n",
       "      <td>0.0091</td>\n",
       "      <td>0.881</td>\n",
       "      <td>0.549</td>\n",
       "      <td>0.000000</td>\n",
       "      <td>10.0</td>\n",
       "      <td>0.1370</td>\n",
       "      <td>-5.589</td>\n",
       "      <td>...</td>\n",
       "      <td>2941.687500</td>\n",
       "      <td>2695.421143</td>\n",
       "      <td>1.662005</td>\n",
       "      <td>1.671863</td>\n",
       "      <td>4555844.50</td>\n",
       "      <td>2208549.750</td>\n",
       "      <td>1.426403</td>\n",
       "      <td>1.851251</td>\n",
       "      <td>0.101371</td>\n",
       "      <td>0.076952</td>\n",
       "    </tr>\n",
       "    <tr>\n",
       "      <th>19966</th>\n",
       "      <td>male</td>\n",
       "      <td>0.0</td>\n",
       "      <td>2QEnZJ8FwpBoyLKcFcgceT</td>\n",
       "      <td>0.0365</td>\n",
       "      <td>0.801</td>\n",
       "      <td>0.774</td>\n",
       "      <td>0.000003</td>\n",
       "      <td>1.0</td>\n",
       "      <td>0.1140</td>\n",
       "      <td>-5.125</td>\n",
       "      <td>...</td>\n",
       "      <td>2758.055908</td>\n",
       "      <td>2346.302490</td>\n",
       "      <td>1.758831</td>\n",
       "      <td>2.122977</td>\n",
       "      <td>3333951.25</td>\n",
       "      <td>1697798.375</td>\n",
       "      <td>1.092398</td>\n",
       "      <td>1.439533</td>\n",
       "      <td>0.094051</td>\n",
       "      <td>0.067690</td>\n",
       "    </tr>\n",
       "    <tr>\n",
       "      <th>19967</th>\n",
       "      <td>male</td>\n",
       "      <td>0.0</td>\n",
       "      <td>3xEozpt8pAptvpH69iJhOw</td>\n",
       "      <td>0.7860</td>\n",
       "      <td>0.434</td>\n",
       "      <td>0.314</td>\n",
       "      <td>0.000000</td>\n",
       "      <td>10.0</td>\n",
       "      <td>0.1630</td>\n",
       "      <td>-7.780</td>\n",
       "      <td>...</td>\n",
       "      <td>1763.226318</td>\n",
       "      <td>1430.873047</td>\n",
       "      <td>2.420862</td>\n",
       "      <td>1.929476</td>\n",
       "      <td>3221035.00</td>\n",
       "      <td>1425182.125</td>\n",
       "      <td>2.114549</td>\n",
       "      <td>2.202738</td>\n",
       "      <td>0.064748</td>\n",
       "      <td>0.045259</td>\n",
       "    </tr>\n",
       "    <tr>\n",
       "      <th>19968</th>\n",
       "      <td>male</td>\n",
       "      <td>0.0</td>\n",
       "      <td>0DiDStADDVh3SvAsoJAFMk</td>\n",
       "      <td>0.1080</td>\n",
       "      <td>0.795</td>\n",
       "      <td>0.496</td>\n",
       "      <td>0.000000</td>\n",
       "      <td>0.0</td>\n",
       "      <td>0.0645</td>\n",
       "      <td>-5.883</td>\n",
       "      <td>...</td>\n",
       "      <td>2566.776855</td>\n",
       "      <td>2540.895264</td>\n",
       "      <td>1.707363</td>\n",
       "      <td>1.742358</td>\n",
       "      <td>4678761.50</td>\n",
       "      <td>2182918.250</td>\n",
       "      <td>1.449685</td>\n",
       "      <td>1.619190</td>\n",
       "      <td>0.097777</td>\n",
       "      <td>0.080012</td>\n",
       "    </tr>\n",
       "    <tr>\n",
       "      <th>19969</th>\n",
       "      <td>male</td>\n",
       "      <td>0.0</td>\n",
       "      <td>6XHVuErjQ4XNm6nDPVCxVX</td>\n",
       "      <td>0.1230</td>\n",
       "      <td>0.696</td>\n",
       "      <td>0.454</td>\n",
       "      <td>0.000000</td>\n",
       "      <td>1.0</td>\n",
       "      <td>0.1550</td>\n",
       "      <td>-6.756</td>\n",
       "      <td>...</td>\n",
       "      <td>2171.963867</td>\n",
       "      <td>2274.791016</td>\n",
       "      <td>2.825265</td>\n",
       "      <td>3.053260</td>\n",
       "      <td>4228989.00</td>\n",
       "      <td>2354418.750</td>\n",
       "      <td>1.566426</td>\n",
       "      <td>2.026457</td>\n",
       "      <td>0.079023</td>\n",
       "      <td>0.064407</td>\n",
       "    </tr>\n",
       "  </tbody>\n",
       "</table>\n",
       "<p>5469 rows × 99 columns</p>\n",
       "</div>"
      ],
      "text/plain": [
       "       gender  falsetto              spotify_id  acousticness  danceability  \\\n",
       "9        male       2.0  4xbJyF9RDa1VLoZNoCFy1r        0.4930         0.500   \n",
       "15     female       4.0  6i9b14YXyWIMiQg26IWYA5        0.0370         0.604   \n",
       "16     female       2.0  62QRbVm7DqR3eoqgT7pEfs        0.4750         0.408   \n",
       "23       male       2.0  59HxRYpU61UgzewVxove4P        0.0300         0.721   \n",
       "27       male       4.0  6igsoAR6Co9u7Rq3U7mlOD        0.0195         0.623   \n",
       "...       ...       ...                     ...           ...           ...   \n",
       "19965    male       0.0  4ANFPo7dzs2DdPuONXC9bp        0.0091         0.881   \n",
       "19966    male       0.0  2QEnZJ8FwpBoyLKcFcgceT        0.0365         0.801   \n",
       "19967    male       0.0  3xEozpt8pAptvpH69iJhOw        0.7860         0.434   \n",
       "19968    male       0.0  0DiDStADDVh3SvAsoJAFMk        0.1080         0.795   \n",
       "19969    male       0.0  6XHVuErjQ4XNm6nDPVCxVX        0.1230         0.696   \n",
       "\n",
       "       energy  instrumentalness   key  liveness  loudness  ...  \\\n",
       "9       0.489          0.000130   2.0    0.1630   -11.428  ...   \n",
       "15      0.549          0.000000   5.0    0.0856   -13.252  ...   \n",
       "16      0.511          0.000000   6.0    0.6250    -7.225  ...   \n",
       "23      0.507          0.000007   9.0    0.0939   -14.160  ...   \n",
       "27      0.824          0.130000   6.0    0.0491    -8.971  ...   \n",
       "...       ...               ...   ...       ...       ...  ...   \n",
       "19965   0.549          0.000000  10.0    0.1370    -5.589  ...   \n",
       "19966   0.774          0.000003   1.0    0.1140    -5.125  ...   \n",
       "19967   0.314          0.000000  10.0    0.1630    -7.780  ...   \n",
       "19968   0.496          0.000000   0.0    0.0645    -5.883  ...   \n",
       "19969   0.454          0.000000   1.0    0.1550    -6.756  ...   \n",
       "\n",
       "       lowlevel.spectral_rolloff.mean  lowlevel.spectral_rolloff.stdev  \\\n",
       "9                         4735.147949                      3267.810791   \n",
       "15                        2836.416016                      3128.354980   \n",
       "16                        2104.636719                      2154.778809   \n",
       "23                        6266.567871                      4363.871094   \n",
       "27                        3765.984375                      3203.498047   \n",
       "...                               ...                              ...   \n",
       "19965                     2941.687500                      2695.421143   \n",
       "19966                     2758.055908                      2346.302490   \n",
       "19967                     1763.226318                      1430.873047   \n",
       "19968                     2566.776855                      2540.895264   \n",
       "19969                     2171.963867                      2274.791016   \n",
       "\n",
       "       lowlevel.spectral_skewness.mean  lowlevel.spectral_skewness.stdev  \\\n",
       "9                             1.116404                          1.886502   \n",
       "15                            2.057861                          1.807891   \n",
       "16                            2.199072                          1.584902   \n",
       "23                            1.217723                          1.479403   \n",
       "27                            1.726571                          1.386702   \n",
       "...                                ...                               ...   \n",
       "19965                         1.662005                          1.671863   \n",
       "19966                         1.758831                          2.122977   \n",
       "19967                         2.420862                          1.929476   \n",
       "19968                         1.707363                          1.742358   \n",
       "19969                         2.825265                          3.053260   \n",
       "\n",
       "       lowlevel.spectral_spread.mean  lowlevel.spectral_spread.stdev  \\\n",
       "9                         4561006.00                     2603007.000   \n",
       "15                        3878335.25                     2358086.750   \n",
       "16                        2869073.75                     1492111.125   \n",
       "23                        4497228.50                     2384612.000   \n",
       "27                        2836681.00                     1839193.250   \n",
       "...                              ...                             ...   \n",
       "19965                     4555844.50                     2208549.750   \n",
       "19966                     3333951.25                     1697798.375   \n",
       "19967                     3221035.00                     1425182.125   \n",
       "19968                     4678761.50                     2182918.250   \n",
       "19969                     4228989.00                     2354418.750   \n",
       "\n",
       "       lowlevel.spectral_strongpeak.mean  lowlevel.spectral_strongpeak.stdev  \\\n",
       "9                               1.443960                            1.749026   \n",
       "15                              2.286654                            2.462046   \n",
       "16                              2.827456                            2.472313   \n",
       "23                              0.975161                            2.004229   \n",
       "27                              1.518716                            1.905755   \n",
       "...                                  ...                                 ...   \n",
       "19965                           1.426403                            1.851251   \n",
       "19966                           1.092398                            1.439533   \n",
       "19967                           2.114549                            2.202738   \n",
       "19968                           1.449685                            1.619190   \n",
       "19969                           1.566426                            2.026457   \n",
       "\n",
       "       lowlevel.zerocrossingrate.mean  lowlevel.zerocrossingrate.stdev  \n",
       "9                            0.178995                         0.119499  \n",
       "15                           0.102232                         0.103619  \n",
       "16                           0.074080                         0.069771  \n",
       "23                           0.220188                         0.147456  \n",
       "27                           0.123977                         0.084495  \n",
       "...                               ...                              ...  \n",
       "19965                        0.101371                         0.076952  \n",
       "19966                        0.094051                         0.067690  \n",
       "19967                        0.064748                         0.045259  \n",
       "19968                        0.097777                         0.080012  \n",
       "19969                        0.079023                         0.064407  \n",
       "\n",
       "[5469 rows x 99 columns]"
      ]
     },
     "execution_count": 9,
     "metadata": {},
     "output_type": "execute_result"
    }
   ],
   "source": [
    "max_index = 0.9*len(index_names)\n",
    "index_drop = index_names[:int(max_index)]\n",
    "df_new = df.drop(index_drop)\n",
    "df_new"
   ]
  },
  {
   "cell_type": "markdown",
   "metadata": {
    "id": "UDxMwCcd2eGC"
   },
   "source": [
    "### See new distribution"
   ]
  },
  {
   "cell_type": "code",
   "execution_count": 10,
   "metadata": {
    "colab": {
     "base_uri": "https://localhost:8080/",
     "height": 325
    },
    "id": "XSQdWtKYzJYh",
    "outputId": "b58248ff-3401-4de3-c1e6-6ccc91e7ed64"
   },
   "outputs": [
    {
     "data": {
      "text/plain": [
       "<AxesSubplot:title={'center':'Class distribution'}, xlabel='Falsetto value', ylabel='Occurencies number'>"
      ]
     },
     "execution_count": 10,
     "metadata": {},
     "output_type": "execute_result"
    },
    {
     "data": {
      "image/png": "[encoded data removed]",
      "text/plain": [
       "<Figure size 432x288 with 1 Axes>"
      ]
     },
     "metadata": {
      "needs_background": "light"
     },
     "output_type": "display_data"
    }
   ],
   "source": [
    "new_values = df_new['falsetto'].value_counts()\n",
    "new_values = new_values.append(pd.Series({1.0:0}))\n",
    "new_values = new_values.sort_index()\n",
    "new_values.plot.bar(**{'title': 'Class distribution', 'xlabel': 'Falsetto value', 'ylabel':'Occurencies number'})"
   ]
  },
  {
   "cell_type": "markdown",
   "metadata": {
    "id": "d9t0qYZp2sCB"
   },
   "source": [
    "### Classifier using this setting"
   ]
  },
  {
   "cell_type": "code",
   "execution_count": 48,
   "metadata": {
    "id": "xjWQHubp0zTh"
   },
   "outputs": [],
   "source": [
    "#1\n",
    "y, X = get_y_and_X(df_new)\n",
    "enc = OneHotEncoder()\n",
    "enc_X = enc.fit_transform(X)\n",
    "X_train, X_test, y_train, y_test = train_test_split(enc_X, y, test_size=0.33, random_state=42)"
   ]
  },
  {
   "cell_type": "code",
   "execution_count": 49,
   "metadata": {
    "id": "Pv4EJFbC2vNn"
   },
   "outputs": [],
   "source": [
    "dt_clf2 = DecisionTreeClassifier(random_state=12, class_weight=\"balanced\", criterion=\"entropy\", max_depth=54)\n",
    "dt_clf2.fit(X_train, y_train)\n",
    "y_pred = dt_clf2.predict(X_test)"
   ]
  },
  {
   "cell_type": "code",
   "execution_count": 50,
   "metadata": {
    "colab": {
     "base_uri": "https://localhost:8080/"
    },
    "id": "6VymlnXISXhG",
    "outputId": "03e749db-2232-436f-ed16-af1da9a18276"
   },
   "outputs": [
    {
     "name": "stdout",
     "output_type": "stream",
     "text": [
      "Accuracy score: 0.21986754966887417\n",
      "F1 Macro-Score: 0.09085288429307684\n",
      "F1 Weighted-Score: 0.20871377326114257\n"
     ]
    }
   ],
   "source": [
    "show_metrics(y_test, y_pred)"
   ]
  },
  {
   "cell_type": "code",
   "execution_count": 51,
   "metadata": {
    "colab": {
     "base_uri": "https://localhost:8080/"
    },
    "id": "eW_ZJijO0IU_",
    "outputId": "ba58d35f-7b0d-48b4-81ad-a9de7c89fcbc"
   },
   "outputs": [
    {
     "data": {
      "text/plain": [
       "array([0.29186603, 0.39066339, 0.09960159, 0.05660377, 0.17721519,\n",
       "       0.        , 0.        , 0.        , 0.        , 0.        ])"
      ]
     },
     "execution_count": 51,
     "metadata": {
      "tags": []
     },
     "output_type": "execute_result"
    }
   ],
   "source": [
    "matrix = confusion_matrix(y_test, y_pred)\n",
    "matrix.diagonal()/matrix.sum(axis=1)"
   ]
  },
  {
   "cell_type": "code",
   "execution_count": 52,
   "metadata": {
    "colab": {
     "base_uri": "https://localhost:8080/",
     "height": 289
    },
    "id": "a0Ja_1X3Cx8w",
    "outputId": "95fdf1d6-748f-4edf-8fc5-9e6b24ecaa8e"
   },
   "outputs": [
    {
     "data": {
      "image/png": "[encoded data removed]",
      "text/plain": [
       "<Figure size 432x288 with 2 Axes>"
      ]
     },
     "metadata": {
      "needs_background": "light",
      "tags": []
     },
     "output_type": "display_data"
    }
   ],
   "source": [
    "show_confusion_matrix(y_test, y_pred)"
   ]
  },
  {
   "cell_type": "markdown",
   "metadata": {
    "id": "YleK1F1q5sZI"
   },
   "source": [
    "## Binary Classifier"
   ]
  },
  {
   "cell_type": "code",
   "execution_count": 11,
   "metadata": {
    "colab": {
     "base_uri": "https://localhost:8080/",
     "height": 442
    },
    "id": "CuWHdbGiTTYq",
    "outputId": "af5e60ad-c21e-42cc-c7c7-dd1843ea10ea"
   },
   "outputs": [
    {
     "data": {
      "text/html": [
       "<div>\n",
       "<style scoped>\n",
       "    .dataframe tbody tr th:only-of-type {\n",
       "        vertical-align: middle;\n",
       "    }\n",
       "\n",
       "    .dataframe tbody tr th {\n",
       "        vertical-align: top;\n",
       "    }\n",
       "\n",
       "    .dataframe thead th {\n",
       "        text-align: right;\n",
       "    }\n",
       "</style>\n",
       "<table border=\"1\" class=\"dataframe\">\n",
       "  <thead>\n",
       "    <tr style=\"text-align: right;\">\n",
       "      <th></th>\n",
       "      <th>gender</th>\n",
       "      <th>falsetto</th>\n",
       "      <th>spotify_id</th>\n",
       "      <th>acousticness</th>\n",
       "      <th>danceability</th>\n",
       "      <th>energy</th>\n",
       "      <th>instrumentalness</th>\n",
       "      <th>key</th>\n",
       "      <th>liveness</th>\n",
       "      <th>loudness</th>\n",
       "      <th>...</th>\n",
       "      <th>lowlevel.spectral_rolloff.mean</th>\n",
       "      <th>lowlevel.spectral_rolloff.stdev</th>\n",
       "      <th>lowlevel.spectral_skewness.mean</th>\n",
       "      <th>lowlevel.spectral_skewness.stdev</th>\n",
       "      <th>lowlevel.spectral_spread.mean</th>\n",
       "      <th>lowlevel.spectral_spread.stdev</th>\n",
       "      <th>lowlevel.spectral_strongpeak.mean</th>\n",
       "      <th>lowlevel.spectral_strongpeak.stdev</th>\n",
       "      <th>lowlevel.zerocrossingrate.mean</th>\n",
       "      <th>lowlevel.zerocrossingrate.stdev</th>\n",
       "    </tr>\n",
       "  </thead>\n",
       "  <tbody>\n",
       "    <tr>\n",
       "      <th>0</th>\n",
       "      <td>male</td>\n",
       "      <td>0</td>\n",
       "      <td>5g5EdgkfKVUceOTJtm0Kel</td>\n",
       "      <td>0.5730</td>\n",
       "      <td>0.487</td>\n",
       "      <td>0.192</td>\n",
       "      <td>0.000003</td>\n",
       "      <td>1.0</td>\n",
       "      <td>0.0759</td>\n",
       "      <td>-17.308</td>\n",
       "      <td>...</td>\n",
       "      <td>1971.881714</td>\n",
       "      <td>2904.578125</td>\n",
       "      <td>2.766868</td>\n",
       "      <td>2.309679</td>\n",
       "      <td>4682942.50</td>\n",
       "      <td>2566181.250</td>\n",
       "      <td>1.312214</td>\n",
       "      <td>1.776766</td>\n",
       "      <td>0.073260</td>\n",
       "      <td>0.091557</td>\n",
       "    </tr>\n",
       "    <tr>\n",
       "      <th>1</th>\n",
       "      <td>male</td>\n",
       "      <td>0</td>\n",
       "      <td>62GYoGszQfROZswLee6W3O</td>\n",
       "      <td>0.3140</td>\n",
       "      <td>0.850</td>\n",
       "      <td>0.466</td>\n",
       "      <td>0.023400</td>\n",
       "      <td>1.0</td>\n",
       "      <td>0.1290</td>\n",
       "      <td>-15.673</td>\n",
       "      <td>...</td>\n",
       "      <td>2611.819824</td>\n",
       "      <td>2596.150146</td>\n",
       "      <td>1.852206</td>\n",
       "      <td>1.690892</td>\n",
       "      <td>4348480.50</td>\n",
       "      <td>2316541.000</td>\n",
       "      <td>1.372175</td>\n",
       "      <td>1.901234</td>\n",
       "      <td>0.093488</td>\n",
       "      <td>0.074530</td>\n",
       "    </tr>\n",
       "    <tr>\n",
       "      <th>2</th>\n",
       "      <td>male</td>\n",
       "      <td>0</td>\n",
       "      <td>2nWHzbBWBOePUvAImQv2So</td>\n",
       "      <td>0.0317</td>\n",
       "      <td>0.878</td>\n",
       "      <td>0.951</td>\n",
       "      <td>0.544000</td>\n",
       "      <td>7.0</td>\n",
       "      <td>0.0614</td>\n",
       "      <td>-5.077</td>\n",
       "      <td>...</td>\n",
       "      <td>9238.177734</td>\n",
       "      <td>7254.523926</td>\n",
       "      <td>4.492148</td>\n",
       "      <td>4.754400</td>\n",
       "      <td>4727808.50</td>\n",
       "      <td>4539257.000</td>\n",
       "      <td>0.701681</td>\n",
       "      <td>1.969949</td>\n",
       "      <td>0.138516</td>\n",
       "      <td>0.136973</td>\n",
       "    </tr>\n",
       "    <tr>\n",
       "      <th>3</th>\n",
       "      <td>female</td>\n",
       "      <td>0</td>\n",
       "      <td>6Llr9PVC1cirKUwu7Fle83</td>\n",
       "      <td>0.6030</td>\n",
       "      <td>0.505</td>\n",
       "      <td>0.625</td>\n",
       "      <td>0.000040</td>\n",
       "      <td>5.0</td>\n",
       "      <td>0.0823</td>\n",
       "      <td>-8.195</td>\n",
       "      <td>...</td>\n",
       "      <td>2351.235840</td>\n",
       "      <td>2622.513428</td>\n",
       "      <td>2.823243</td>\n",
       "      <td>3.105695</td>\n",
       "      <td>3685186.50</td>\n",
       "      <td>2683900.000</td>\n",
       "      <td>1.594873</td>\n",
       "      <td>2.358309</td>\n",
       "      <td>0.086646</td>\n",
       "      <td>0.088080</td>\n",
       "    </tr>\n",
       "    <tr>\n",
       "      <th>4</th>\n",
       "      <td>male</td>\n",
       "      <td>0</td>\n",
       "      <td>6NF8MZ2trxckVBr82pyyPt</td>\n",
       "      <td>0.7190</td>\n",
       "      <td>0.544</td>\n",
       "      <td>0.425</td>\n",
       "      <td>0.018600</td>\n",
       "      <td>10.0</td>\n",
       "      <td>0.9640</td>\n",
       "      <td>-10.231</td>\n",
       "      <td>...</td>\n",
       "      <td>4418.749023</td>\n",
       "      <td>4766.960449</td>\n",
       "      <td>3.549010</td>\n",
       "      <td>3.535505</td>\n",
       "      <td>3004675.25</td>\n",
       "      <td>2536691.750</td>\n",
       "      <td>0.989734</td>\n",
       "      <td>2.951486</td>\n",
       "      <td>0.123163</td>\n",
       "      <td>0.092290</td>\n",
       "    </tr>\n",
       "    <tr>\n",
       "      <th>...</th>\n",
       "      <td>...</td>\n",
       "      <td>...</td>\n",
       "      <td>...</td>\n",
       "      <td>...</td>\n",
       "      <td>...</td>\n",
       "      <td>...</td>\n",
       "      <td>...</td>\n",
       "      <td>...</td>\n",
       "      <td>...</td>\n",
       "      <td>...</td>\n",
       "      <td>...</td>\n",
       "      <td>...</td>\n",
       "      <td>...</td>\n",
       "      <td>...</td>\n",
       "      <td>...</td>\n",
       "      <td>...</td>\n",
       "      <td>...</td>\n",
       "      <td>...</td>\n",
       "      <td>...</td>\n",
       "      <td>...</td>\n",
       "      <td>...</td>\n",
       "    </tr>\n",
       "    <tr>\n",
       "      <th>19965</th>\n",
       "      <td>male</td>\n",
       "      <td>0</td>\n",
       "      <td>4ANFPo7dzs2DdPuONXC9bp</td>\n",
       "      <td>0.0091</td>\n",
       "      <td>0.881</td>\n",
       "      <td>0.549</td>\n",
       "      <td>0.000000</td>\n",
       "      <td>10.0</td>\n",
       "      <td>0.1370</td>\n",
       "      <td>-5.589</td>\n",
       "      <td>...</td>\n",
       "      <td>2941.687500</td>\n",
       "      <td>2695.421143</td>\n",
       "      <td>1.662005</td>\n",
       "      <td>1.671863</td>\n",
       "      <td>4555844.50</td>\n",
       "      <td>2208549.750</td>\n",
       "      <td>1.426403</td>\n",
       "      <td>1.851251</td>\n",
       "      <td>0.101371</td>\n",
       "      <td>0.076952</td>\n",
       "    </tr>\n",
       "    <tr>\n",
       "      <th>19966</th>\n",
       "      <td>male</td>\n",
       "      <td>0</td>\n",
       "      <td>2QEnZJ8FwpBoyLKcFcgceT</td>\n",
       "      <td>0.0365</td>\n",
       "      <td>0.801</td>\n",
       "      <td>0.774</td>\n",
       "      <td>0.000003</td>\n",
       "      <td>1.0</td>\n",
       "      <td>0.1140</td>\n",
       "      <td>-5.125</td>\n",
       "      <td>...</td>\n",
       "      <td>2758.055908</td>\n",
       "      <td>2346.302490</td>\n",
       "      <td>1.758831</td>\n",
       "      <td>2.122977</td>\n",
       "      <td>3333951.25</td>\n",
       "      <td>1697798.375</td>\n",
       "      <td>1.092398</td>\n",
       "      <td>1.439533</td>\n",
       "      <td>0.094051</td>\n",
       "      <td>0.067690</td>\n",
       "    </tr>\n",
       "    <tr>\n",
       "      <th>19967</th>\n",
       "      <td>male</td>\n",
       "      <td>0</td>\n",
       "      <td>3xEozpt8pAptvpH69iJhOw</td>\n",
       "      <td>0.7860</td>\n",
       "      <td>0.434</td>\n",
       "      <td>0.314</td>\n",
       "      <td>0.000000</td>\n",
       "      <td>10.0</td>\n",
       "      <td>0.1630</td>\n",
       "      <td>-7.780</td>\n",
       "      <td>...</td>\n",
       "      <td>1763.226318</td>\n",
       "      <td>1430.873047</td>\n",
       "      <td>2.420862</td>\n",
       "      <td>1.929476</td>\n",
       "      <td>3221035.00</td>\n",
       "      <td>1425182.125</td>\n",
       "      <td>2.114549</td>\n",
       "      <td>2.202738</td>\n",
       "      <td>0.064748</td>\n",
       "      <td>0.045259</td>\n",
       "    </tr>\n",
       "    <tr>\n",
       "      <th>19968</th>\n",
       "      <td>male</td>\n",
       "      <td>0</td>\n",
       "      <td>0DiDStADDVh3SvAsoJAFMk</td>\n",
       "      <td>0.1080</td>\n",
       "      <td>0.795</td>\n",
       "      <td>0.496</td>\n",
       "      <td>0.000000</td>\n",
       "      <td>0.0</td>\n",
       "      <td>0.0645</td>\n",
       "      <td>-5.883</td>\n",
       "      <td>...</td>\n",
       "      <td>2566.776855</td>\n",
       "      <td>2540.895264</td>\n",
       "      <td>1.707363</td>\n",
       "      <td>1.742358</td>\n",
       "      <td>4678761.50</td>\n",
       "      <td>2182918.250</td>\n",
       "      <td>1.449685</td>\n",
       "      <td>1.619190</td>\n",
       "      <td>0.097777</td>\n",
       "      <td>0.080012</td>\n",
       "    </tr>\n",
       "    <tr>\n",
       "      <th>19969</th>\n",
       "      <td>male</td>\n",
       "      <td>0</td>\n",
       "      <td>6XHVuErjQ4XNm6nDPVCxVX</td>\n",
       "      <td>0.1230</td>\n",
       "      <td>0.696</td>\n",
       "      <td>0.454</td>\n",
       "      <td>0.000000</td>\n",
       "      <td>1.0</td>\n",
       "      <td>0.1550</td>\n",
       "      <td>-6.756</td>\n",
       "      <td>...</td>\n",
       "      <td>2171.963867</td>\n",
       "      <td>2274.791016</td>\n",
       "      <td>2.825265</td>\n",
       "      <td>3.053260</td>\n",
       "      <td>4228989.00</td>\n",
       "      <td>2354418.750</td>\n",
       "      <td>1.566426</td>\n",
       "      <td>2.026457</td>\n",
       "      <td>0.079023</td>\n",
       "      <td>0.064407</td>\n",
       "    </tr>\n",
       "  </tbody>\n",
       "</table>\n",
       "<p>19918 rows × 99 columns</p>\n",
       "</div>"
      ],
      "text/plain": [
       "       gender  falsetto              spotify_id  acousticness  danceability  \\\n",
       "0        male         0  5g5EdgkfKVUceOTJtm0Kel        0.5730         0.487   \n",
       "1        male         0  62GYoGszQfROZswLee6W3O        0.3140         0.850   \n",
       "2        male         0  2nWHzbBWBOePUvAImQv2So        0.0317         0.878   \n",
       "3      female         0  6Llr9PVC1cirKUwu7Fle83        0.6030         0.505   \n",
       "4        male         0  6NF8MZ2trxckVBr82pyyPt        0.7190         0.544   \n",
       "...       ...       ...                     ...           ...           ...   \n",
       "19965    male         0  4ANFPo7dzs2DdPuONXC9bp        0.0091         0.881   \n",
       "19966    male         0  2QEnZJ8FwpBoyLKcFcgceT        0.0365         0.801   \n",
       "19967    male         0  3xEozpt8pAptvpH69iJhOw        0.7860         0.434   \n",
       "19968    male         0  0DiDStADDVh3SvAsoJAFMk        0.1080         0.795   \n",
       "19969    male         0  6XHVuErjQ4XNm6nDPVCxVX        0.1230         0.696   \n",
       "\n",
       "       energy  instrumentalness   key  liveness  loudness  ...  \\\n",
       "0       0.192          0.000003   1.0    0.0759   -17.308  ...   \n",
       "1       0.466          0.023400   1.0    0.1290   -15.673  ...   \n",
       "2       0.951          0.544000   7.0    0.0614    -5.077  ...   \n",
       "3       0.625          0.000040   5.0    0.0823    -8.195  ...   \n",
       "4       0.425          0.018600  10.0    0.9640   -10.231  ...   \n",
       "...       ...               ...   ...       ...       ...  ...   \n",
       "19965   0.549          0.000000  10.0    0.1370    -5.589  ...   \n",
       "19966   0.774          0.000003   1.0    0.1140    -5.125  ...   \n",
       "19967   0.314          0.000000  10.0    0.1630    -7.780  ...   \n",
       "19968   0.496          0.000000   0.0    0.0645    -5.883  ...   \n",
       "19969   0.454          0.000000   1.0    0.1550    -6.756  ...   \n",
       "\n",
       "       lowlevel.spectral_rolloff.mean  lowlevel.spectral_rolloff.stdev  \\\n",
       "0                         1971.881714                      2904.578125   \n",
       "1                         2611.819824                      2596.150146   \n",
       "2                         9238.177734                      7254.523926   \n",
       "3                         2351.235840                      2622.513428   \n",
       "4                         4418.749023                      4766.960449   \n",
       "...                               ...                              ...   \n",
       "19965                     2941.687500                      2695.421143   \n",
       "19966                     2758.055908                      2346.302490   \n",
       "19967                     1763.226318                      1430.873047   \n",
       "19968                     2566.776855                      2540.895264   \n",
       "19969                     2171.963867                      2274.791016   \n",
       "\n",
       "       lowlevel.spectral_skewness.mean  lowlevel.spectral_skewness.stdev  \\\n",
       "0                             2.766868                          2.309679   \n",
       "1                             1.852206                          1.690892   \n",
       "2                             4.492148                          4.754400   \n",
       "3                             2.823243                          3.105695   \n",
       "4                             3.549010                          3.535505   \n",
       "...                                ...                               ...   \n",
       "19965                         1.662005                          1.671863   \n",
       "19966                         1.758831                          2.122977   \n",
       "19967                         2.420862                          1.929476   \n",
       "19968                         1.707363                          1.742358   \n",
       "19969                         2.825265                          3.053260   \n",
       "\n",
       "       lowlevel.spectral_spread.mean  lowlevel.spectral_spread.stdev  \\\n",
       "0                         4682942.50                     2566181.250   \n",
       "1                         4348480.50                     2316541.000   \n",
       "2                         4727808.50                     4539257.000   \n",
       "3                         3685186.50                     2683900.000   \n",
       "4                         3004675.25                     2536691.750   \n",
       "...                              ...                             ...   \n",
       "19965                     4555844.50                     2208549.750   \n",
       "19966                     3333951.25                     1697798.375   \n",
       "19967                     3221035.00                     1425182.125   \n",
       "19968                     4678761.50                     2182918.250   \n",
       "19969                     4228989.00                     2354418.750   \n",
       "\n",
       "       lowlevel.spectral_strongpeak.mean  lowlevel.spectral_strongpeak.stdev  \\\n",
       "0                               1.312214                            1.776766   \n",
       "1                               1.372175                            1.901234   \n",
       "2                               0.701681                            1.969949   \n",
       "3                               1.594873                            2.358309   \n",
       "4                               0.989734                            2.951486   \n",
       "...                                  ...                                 ...   \n",
       "19965                           1.426403                            1.851251   \n",
       "19966                           1.092398                            1.439533   \n",
       "19967                           2.114549                            2.202738   \n",
       "19968                           1.449685                            1.619190   \n",
       "19969                           1.566426                            2.026457   \n",
       "\n",
       "       lowlevel.zerocrossingrate.mean  lowlevel.zerocrossingrate.stdev  \n",
       "0                            0.073260                         0.091557  \n",
       "1                            0.093488                         0.074530  \n",
       "2                            0.138516                         0.136973  \n",
       "3                            0.086646                         0.088080  \n",
       "4                            0.123163                         0.092290  \n",
       "...                               ...                              ...  \n",
       "19965                        0.101371                         0.076952  \n",
       "19966                        0.094051                         0.067690  \n",
       "19967                        0.064748                         0.045259  \n",
       "19968                        0.097777                         0.080012  \n",
       "19969                        0.079023                         0.064407  \n",
       "\n",
       "[19918 rows x 99 columns]"
      ]
     },
     "execution_count": 11,
     "metadata": {},
     "output_type": "execute_result"
    }
   ],
   "source": [
    "df_bin = df.copy()\n",
    "df_bin['falsetto'] = df_bin['falsetto'].apply(lambda x: 0 if x == 0 else 1)\n",
    "df_bin"
   ]
  },
  {
   "cell_type": "code",
   "execution_count": 12,
   "metadata": {
    "colab": {
     "base_uri": "https://localhost:8080/"
    },
    "id": "pMli0qEgTTjS",
    "outputId": "6f21fa3d-bee4-4c61-ad73-63d9d0e3f008"
   },
   "outputs": [
    {
     "data": {
      "text/plain": [
       "0    16055\n",
       "1     3863\n",
       "Name: falsetto, dtype: int64"
      ]
     },
     "execution_count": 12,
     "metadata": {},
     "output_type": "execute_result"
    }
   ],
   "source": [
    "df_bin['falsetto'].value_counts()"
   ]
  },
  {
   "cell_type": "code",
   "execution_count": 13,
   "metadata": {
    "colab": {
     "base_uri": "https://localhost:8080/",
     "height": 310
    },
    "id": "_eY-XX3aTTqS",
    "outputId": "72e7d149-1b05-4204-ad28-33a3c8c48980"
   },
   "outputs": [
    {
     "data": {
      "text/plain": [
       "<AxesSubplot:title={'center':'Class distribution'}, xlabel='Falsetto value', ylabel='Occurencies number'>"
      ]
     },
     "execution_count": 13,
     "metadata": {},
     "output_type": "execute_result"
    },
    {
     "data": {
      "image/png": "[encoded data removed]",
      "text/plain": [
       "<Figure size 432x288 with 1 Axes>"
      ]
     },
     "metadata": {
      "needs_background": "light"
     },
     "output_type": "display_data"
    }
   ],
   "source": [
    "values = df_bin['falsetto'].value_counts().sort_index()\n",
    "values.plot.bar(**{'title': 'Class distribution', 'xlabel': 'Falsetto value', 'ylabel':'Occurencies number'})"
   ]
  },
  {
   "cell_type": "code",
   "execution_count": 14,
   "metadata": {
    "colab": {
     "base_uri": "https://localhost:8080/",
     "height": 442
    },
    "id": "8OQjp8mlScIW",
    "outputId": "9a69ba84-ebb9-4687-f57c-703d041faec6"
   },
   "outputs": [
    {
     "data": {
      "text/html": [
       "<div>\n",
       "<style scoped>\n",
       "    .dataframe tbody tr th:only-of-type {\n",
       "        vertical-align: middle;\n",
       "    }\n",
       "\n",
       "    .dataframe tbody tr th {\n",
       "        vertical-align: top;\n",
       "    }\n",
       "\n",
       "    .dataframe thead th {\n",
       "        text-align: right;\n",
       "    }\n",
       "</style>\n",
       "<table border=\"1\" class=\"dataframe\">\n",
       "  <thead>\n",
       "    <tr style=\"text-align: right;\">\n",
       "      <th></th>\n",
       "      <th>gender</th>\n",
       "      <th>falsetto</th>\n",
       "      <th>spotify_id</th>\n",
       "      <th>acousticness</th>\n",
       "      <th>danceability</th>\n",
       "      <th>energy</th>\n",
       "      <th>instrumentalness</th>\n",
       "      <th>key</th>\n",
       "      <th>liveness</th>\n",
       "      <th>loudness</th>\n",
       "      <th>...</th>\n",
       "      <th>lowlevel.spectral_rolloff.mean</th>\n",
       "      <th>lowlevel.spectral_rolloff.stdev</th>\n",
       "      <th>lowlevel.spectral_skewness.mean</th>\n",
       "      <th>lowlevel.spectral_skewness.stdev</th>\n",
       "      <th>lowlevel.spectral_spread.mean</th>\n",
       "      <th>lowlevel.spectral_spread.stdev</th>\n",
       "      <th>lowlevel.spectral_strongpeak.mean</th>\n",
       "      <th>lowlevel.spectral_strongpeak.stdev</th>\n",
       "      <th>lowlevel.zerocrossingrate.mean</th>\n",
       "      <th>lowlevel.zerocrossingrate.stdev</th>\n",
       "    </tr>\n",
       "  </thead>\n",
       "  <tbody>\n",
       "    <tr>\n",
       "      <th>9</th>\n",
       "      <td>male</td>\n",
       "      <td>1</td>\n",
       "      <td>4xbJyF9RDa1VLoZNoCFy1r</td>\n",
       "      <td>0.4930</td>\n",
       "      <td>0.500</td>\n",
       "      <td>0.489</td>\n",
       "      <td>0.000130</td>\n",
       "      <td>2.0</td>\n",
       "      <td>0.1630</td>\n",
       "      <td>-11.428</td>\n",
       "      <td>...</td>\n",
       "      <td>4735.147949</td>\n",
       "      <td>3267.810791</td>\n",
       "      <td>1.116404</td>\n",
       "      <td>1.886502</td>\n",
       "      <td>4561006.00</td>\n",
       "      <td>2603007.000</td>\n",
       "      <td>1.443960</td>\n",
       "      <td>1.749026</td>\n",
       "      <td>0.178995</td>\n",
       "      <td>0.119499</td>\n",
       "    </tr>\n",
       "    <tr>\n",
       "      <th>15</th>\n",
       "      <td>female</td>\n",
       "      <td>1</td>\n",
       "      <td>6i9b14YXyWIMiQg26IWYA5</td>\n",
       "      <td>0.0370</td>\n",
       "      <td>0.604</td>\n",
       "      <td>0.549</td>\n",
       "      <td>0.000000</td>\n",
       "      <td>5.0</td>\n",
       "      <td>0.0856</td>\n",
       "      <td>-13.252</td>\n",
       "      <td>...</td>\n",
       "      <td>2836.416016</td>\n",
       "      <td>3128.354980</td>\n",
       "      <td>2.057861</td>\n",
       "      <td>1.807891</td>\n",
       "      <td>3878335.25</td>\n",
       "      <td>2358086.750</td>\n",
       "      <td>2.286654</td>\n",
       "      <td>2.462046</td>\n",
       "      <td>0.102232</td>\n",
       "      <td>0.103619</td>\n",
       "    </tr>\n",
       "    <tr>\n",
       "      <th>16</th>\n",
       "      <td>female</td>\n",
       "      <td>1</td>\n",
       "      <td>62QRbVm7DqR3eoqgT7pEfs</td>\n",
       "      <td>0.4750</td>\n",
       "      <td>0.408</td>\n",
       "      <td>0.511</td>\n",
       "      <td>0.000000</td>\n",
       "      <td>6.0</td>\n",
       "      <td>0.6250</td>\n",
       "      <td>-7.225</td>\n",
       "      <td>...</td>\n",
       "      <td>2104.636719</td>\n",
       "      <td>2154.778809</td>\n",
       "      <td>2.199072</td>\n",
       "      <td>1.584902</td>\n",
       "      <td>2869073.75</td>\n",
       "      <td>1492111.125</td>\n",
       "      <td>2.827456</td>\n",
       "      <td>2.472313</td>\n",
       "      <td>0.074080</td>\n",
       "      <td>0.069771</td>\n",
       "    </tr>\n",
       "    <tr>\n",
       "      <th>23</th>\n",
       "      <td>male</td>\n",
       "      <td>1</td>\n",
       "      <td>59HxRYpU61UgzewVxove4P</td>\n",
       "      <td>0.0300</td>\n",
       "      <td>0.721</td>\n",
       "      <td>0.507</td>\n",
       "      <td>0.000007</td>\n",
       "      <td>9.0</td>\n",
       "      <td>0.0939</td>\n",
       "      <td>-14.160</td>\n",
       "      <td>...</td>\n",
       "      <td>6266.567871</td>\n",
       "      <td>4363.871094</td>\n",
       "      <td>1.217723</td>\n",
       "      <td>1.479403</td>\n",
       "      <td>4497228.50</td>\n",
       "      <td>2384612.000</td>\n",
       "      <td>0.975161</td>\n",
       "      <td>2.004229</td>\n",
       "      <td>0.220188</td>\n",
       "      <td>0.147456</td>\n",
       "    </tr>\n",
       "    <tr>\n",
       "      <th>27</th>\n",
       "      <td>male</td>\n",
       "      <td>1</td>\n",
       "      <td>6igsoAR6Co9u7Rq3U7mlOD</td>\n",
       "      <td>0.0195</td>\n",
       "      <td>0.623</td>\n",
       "      <td>0.824</td>\n",
       "      <td>0.130000</td>\n",
       "      <td>6.0</td>\n",
       "      <td>0.0491</td>\n",
       "      <td>-8.971</td>\n",
       "      <td>...</td>\n",
       "      <td>3765.984375</td>\n",
       "      <td>3203.498047</td>\n",
       "      <td>1.726571</td>\n",
       "      <td>1.386702</td>\n",
       "      <td>2836681.00</td>\n",
       "      <td>1839193.250</td>\n",
       "      <td>1.518716</td>\n",
       "      <td>1.905755</td>\n",
       "      <td>0.123977</td>\n",
       "      <td>0.084495</td>\n",
       "    </tr>\n",
       "    <tr>\n",
       "      <th>...</th>\n",
       "      <td>...</td>\n",
       "      <td>...</td>\n",
       "      <td>...</td>\n",
       "      <td>...</td>\n",
       "      <td>...</td>\n",
       "      <td>...</td>\n",
       "      <td>...</td>\n",
       "      <td>...</td>\n",
       "      <td>...</td>\n",
       "      <td>...</td>\n",
       "      <td>...</td>\n",
       "      <td>...</td>\n",
       "      <td>...</td>\n",
       "      <td>...</td>\n",
       "      <td>...</td>\n",
       "      <td>...</td>\n",
       "      <td>...</td>\n",
       "      <td>...</td>\n",
       "      <td>...</td>\n",
       "      <td>...</td>\n",
       "      <td>...</td>\n",
       "    </tr>\n",
       "    <tr>\n",
       "      <th>19965</th>\n",
       "      <td>male</td>\n",
       "      <td>0</td>\n",
       "      <td>4ANFPo7dzs2DdPuONXC9bp</td>\n",
       "      <td>0.0091</td>\n",
       "      <td>0.881</td>\n",
       "      <td>0.549</td>\n",
       "      <td>0.000000</td>\n",
       "      <td>10.0</td>\n",
       "      <td>0.1370</td>\n",
       "      <td>-5.589</td>\n",
       "      <td>...</td>\n",
       "      <td>2941.687500</td>\n",
       "      <td>2695.421143</td>\n",
       "      <td>1.662005</td>\n",
       "      <td>1.671863</td>\n",
       "      <td>4555844.50</td>\n",
       "      <td>2208549.750</td>\n",
       "      <td>1.426403</td>\n",
       "      <td>1.851251</td>\n",
       "      <td>0.101371</td>\n",
       "      <td>0.076952</td>\n",
       "    </tr>\n",
       "    <tr>\n",
       "      <th>19966</th>\n",
       "      <td>male</td>\n",
       "      <td>0</td>\n",
       "      <td>2QEnZJ8FwpBoyLKcFcgceT</td>\n",
       "      <td>0.0365</td>\n",
       "      <td>0.801</td>\n",
       "      <td>0.774</td>\n",
       "      <td>0.000003</td>\n",
       "      <td>1.0</td>\n",
       "      <td>0.1140</td>\n",
       "      <td>-5.125</td>\n",
       "      <td>...</td>\n",
       "      <td>2758.055908</td>\n",
       "      <td>2346.302490</td>\n",
       "      <td>1.758831</td>\n",
       "      <td>2.122977</td>\n",
       "      <td>3333951.25</td>\n",
       "      <td>1697798.375</td>\n",
       "      <td>1.092398</td>\n",
       "      <td>1.439533</td>\n",
       "      <td>0.094051</td>\n",
       "      <td>0.067690</td>\n",
       "    </tr>\n",
       "    <tr>\n",
       "      <th>19967</th>\n",
       "      <td>male</td>\n",
       "      <td>0</td>\n",
       "      <td>3xEozpt8pAptvpH69iJhOw</td>\n",
       "      <td>0.7860</td>\n",
       "      <td>0.434</td>\n",
       "      <td>0.314</td>\n",
       "      <td>0.000000</td>\n",
       "      <td>10.0</td>\n",
       "      <td>0.1630</td>\n",
       "      <td>-7.780</td>\n",
       "      <td>...</td>\n",
       "      <td>1763.226318</td>\n",
       "      <td>1430.873047</td>\n",
       "      <td>2.420862</td>\n",
       "      <td>1.929476</td>\n",
       "      <td>3221035.00</td>\n",
       "      <td>1425182.125</td>\n",
       "      <td>2.114549</td>\n",
       "      <td>2.202738</td>\n",
       "      <td>0.064748</td>\n",
       "      <td>0.045259</td>\n",
       "    </tr>\n",
       "    <tr>\n",
       "      <th>19968</th>\n",
       "      <td>male</td>\n",
       "      <td>0</td>\n",
       "      <td>0DiDStADDVh3SvAsoJAFMk</td>\n",
       "      <td>0.1080</td>\n",
       "      <td>0.795</td>\n",
       "      <td>0.496</td>\n",
       "      <td>0.000000</td>\n",
       "      <td>0.0</td>\n",
       "      <td>0.0645</td>\n",
       "      <td>-5.883</td>\n",
       "      <td>...</td>\n",
       "      <td>2566.776855</td>\n",
       "      <td>2540.895264</td>\n",
       "      <td>1.707363</td>\n",
       "      <td>1.742358</td>\n",
       "      <td>4678761.50</td>\n",
       "      <td>2182918.250</td>\n",
       "      <td>1.449685</td>\n",
       "      <td>1.619190</td>\n",
       "      <td>0.097777</td>\n",
       "      <td>0.080012</td>\n",
       "    </tr>\n",
       "    <tr>\n",
       "      <th>19969</th>\n",
       "      <td>male</td>\n",
       "      <td>0</td>\n",
       "      <td>6XHVuErjQ4XNm6nDPVCxVX</td>\n",
       "      <td>0.1230</td>\n",
       "      <td>0.696</td>\n",
       "      <td>0.454</td>\n",
       "      <td>0.000000</td>\n",
       "      <td>1.0</td>\n",
       "      <td>0.1550</td>\n",
       "      <td>-6.756</td>\n",
       "      <td>...</td>\n",
       "      <td>2171.963867</td>\n",
       "      <td>2274.791016</td>\n",
       "      <td>2.825265</td>\n",
       "      <td>3.053260</td>\n",
       "      <td>4228989.00</td>\n",
       "      <td>2354418.750</td>\n",
       "      <td>1.566426</td>\n",
       "      <td>2.026457</td>\n",
       "      <td>0.079023</td>\n",
       "      <td>0.064407</td>\n",
       "    </tr>\n",
       "  </tbody>\n",
       "</table>\n",
       "<p>7111 rows × 99 columns</p>\n",
       "</div>"
      ],
      "text/plain": [
       "       gender  falsetto              spotify_id  acousticness  danceability  \\\n",
       "9        male         1  4xbJyF9RDa1VLoZNoCFy1r        0.4930         0.500   \n",
       "15     female         1  6i9b14YXyWIMiQg26IWYA5        0.0370         0.604   \n",
       "16     female         1  62QRbVm7DqR3eoqgT7pEfs        0.4750         0.408   \n",
       "23       male         1  59HxRYpU61UgzewVxove4P        0.0300         0.721   \n",
       "27       male         1  6igsoAR6Co9u7Rq3U7mlOD        0.0195         0.623   \n",
       "...       ...       ...                     ...           ...           ...   \n",
       "19965    male         0  4ANFPo7dzs2DdPuONXC9bp        0.0091         0.881   \n",
       "19966    male         0  2QEnZJ8FwpBoyLKcFcgceT        0.0365         0.801   \n",
       "19967    male         0  3xEozpt8pAptvpH69iJhOw        0.7860         0.434   \n",
       "19968    male         0  0DiDStADDVh3SvAsoJAFMk        0.1080         0.795   \n",
       "19969    male         0  6XHVuErjQ4XNm6nDPVCxVX        0.1230         0.696   \n",
       "\n",
       "       energy  instrumentalness   key  liveness  loudness  ...  \\\n",
       "9       0.489          0.000130   2.0    0.1630   -11.428  ...   \n",
       "15      0.549          0.000000   5.0    0.0856   -13.252  ...   \n",
       "16      0.511          0.000000   6.0    0.6250    -7.225  ...   \n",
       "23      0.507          0.000007   9.0    0.0939   -14.160  ...   \n",
       "27      0.824          0.130000   6.0    0.0491    -8.971  ...   \n",
       "...       ...               ...   ...       ...       ...  ...   \n",
       "19965   0.549          0.000000  10.0    0.1370    -5.589  ...   \n",
       "19966   0.774          0.000003   1.0    0.1140    -5.125  ...   \n",
       "19967   0.314          0.000000  10.0    0.1630    -7.780  ...   \n",
       "19968   0.496          0.000000   0.0    0.0645    -5.883  ...   \n",
       "19969   0.454          0.000000   1.0    0.1550    -6.756  ...   \n",
       "\n",
       "       lowlevel.spectral_rolloff.mean  lowlevel.spectral_rolloff.stdev  \\\n",
       "9                         4735.147949                      3267.810791   \n",
       "15                        2836.416016                      3128.354980   \n",
       "16                        2104.636719                      2154.778809   \n",
       "23                        6266.567871                      4363.871094   \n",
       "27                        3765.984375                      3203.498047   \n",
       "...                               ...                              ...   \n",
       "19965                     2941.687500                      2695.421143   \n",
       "19966                     2758.055908                      2346.302490   \n",
       "19967                     1763.226318                      1430.873047   \n",
       "19968                     2566.776855                      2540.895264   \n",
       "19969                     2171.963867                      2274.791016   \n",
       "\n",
       "       lowlevel.spectral_skewness.mean  lowlevel.spectral_skewness.stdev  \\\n",
       "9                             1.116404                          1.886502   \n",
       "15                            2.057861                          1.807891   \n",
       "16                            2.199072                          1.584902   \n",
       "23                            1.217723                          1.479403   \n",
       "27                            1.726571                          1.386702   \n",
       "...                                ...                               ...   \n",
       "19965                         1.662005                          1.671863   \n",
       "19966                         1.758831                          2.122977   \n",
       "19967                         2.420862                          1.929476   \n",
       "19968                         1.707363                          1.742358   \n",
       "19969                         2.825265                          3.053260   \n",
       "\n",
       "       lowlevel.spectral_spread.mean  lowlevel.spectral_spread.stdev  \\\n",
       "9                         4561006.00                     2603007.000   \n",
       "15                        3878335.25                     2358086.750   \n",
       "16                        2869073.75                     1492111.125   \n",
       "23                        4497228.50                     2384612.000   \n",
       "27                        2836681.00                     1839193.250   \n",
       "...                              ...                             ...   \n",
       "19965                     4555844.50                     2208549.750   \n",
       "19966                     3333951.25                     1697798.375   \n",
       "19967                     3221035.00                     1425182.125   \n",
       "19968                     4678761.50                     2182918.250   \n",
       "19969                     4228989.00                     2354418.750   \n",
       "\n",
       "       lowlevel.spectral_strongpeak.mean  lowlevel.spectral_strongpeak.stdev  \\\n",
       "9                               1.443960                            1.749026   \n",
       "15                              2.286654                            2.462046   \n",
       "16                              2.827456                            2.472313   \n",
       "23                              0.975161                            2.004229   \n",
       "27                              1.518716                            1.905755   \n",
       "...                                  ...                                 ...   \n",
       "19965                           1.426403                            1.851251   \n",
       "19966                           1.092398                            1.439533   \n",
       "19967                           2.114549                            2.202738   \n",
       "19968                           1.449685                            1.619190   \n",
       "19969                           1.566426                            2.026457   \n",
       "\n",
       "       lowlevel.zerocrossingrate.mean  lowlevel.zerocrossingrate.stdev  \n",
       "9                            0.178995                         0.119499  \n",
       "15                           0.102232                         0.103619  \n",
       "16                           0.074080                         0.069771  \n",
       "23                           0.220188                         0.147456  \n",
       "27                           0.123977                         0.084495  \n",
       "...                               ...                              ...  \n",
       "19965                        0.101371                         0.076952  \n",
       "19966                        0.094051                         0.067690  \n",
       "19967                        0.064748                         0.045259  \n",
       "19968                        0.097777                         0.080012  \n",
       "19969                        0.079023                         0.064407  \n",
       "\n",
       "[7111 rows x 99 columns]"
      ]
     },
     "execution_count": 14,
     "metadata": {},
     "output_type": "execute_result"
    }
   ],
   "source": [
    "#Manually tuning\n",
    "max_index = len(index_names)\n",
    "index_drop = index_names[:len(index_names) - 3248]\n",
    "df_bin = df_bin.drop(index_drop)\n",
    "df_bin"
   ]
  },
  {
   "cell_type": "code",
   "execution_count": 15,
   "metadata": {
    "colab": {
     "base_uri": "https://localhost:8080/"
    },
    "id": "ls2aMZ2YTTsQ",
    "outputId": "0d546808-ee82-420f-d569-dfc77c3a305e"
   },
   "outputs": [
    {
     "data": {
      "text/plain": [
       "1    3863\n",
       "0    3248\n",
       "Name: falsetto, dtype: int64"
      ]
     },
     "execution_count": 15,
     "metadata": {},
     "output_type": "execute_result"
    }
   ],
   "source": [
    "df_bin['falsetto'].value_counts()"
   ]
  },
  {
   "cell_type": "markdown",
   "metadata": {
    "id": "mOW5xJqF62lQ"
   },
   "source": [
    "### Binary Classifier"
   ]
  },
  {
   "cell_type": "code",
   "execution_count": 62,
   "metadata": {
    "id": "SMvuGLK5Vyq4"
   },
   "outputs": [],
   "source": [
    "y, X = get_y_and_X(df_bin)\n",
    "enc = OneHotEncoder()\n",
    "enc_X = enc.fit_transform(X)\n",
    "\n",
    "X_train, X_test, y_train, y_test = train_test_split(enc_X, y, test_size=0.33, random_state=42)"
   ]
  },
  {
   "cell_type": "code",
   "execution_count": 63,
   "metadata": {
    "id": "ryikiG_vVytv"
   },
   "outputs": [],
   "source": [
    "dt_clf_bin = DecisionTreeClassifier(random_state=12, max_depth=25)\n",
    "dt_clf_bin.fit(X_train, y_train)\n",
    "y_pred = dt_clf_bin.predict(X_test)"
   ]
  },
  {
   "cell_type": "code",
   "execution_count": 64,
   "metadata": {
    "colab": {
     "base_uri": "https://localhost:8080/"
    },
    "id": "cTNAl7ZJVyw6",
    "outputId": "66912a98-2776-4953-c649-d5ccfefea7f6"
   },
   "outputs": [
    {
     "name": "stdout",
     "output_type": "stream",
     "text": [
      "Accuracy score: 0.5331156716417911\n",
      "F1 Macro-Score: 0.5329611345715054\n",
      "F1 Weighted-Score: 0.5328501848800182\n"
     ]
    }
   ],
   "source": [
    "show_metrics(y_test, y_pred)"
   ]
  },
  {
   "cell_type": "code",
   "execution_count": 65,
   "metadata": {
    "colab": {
     "base_uri": "https://localhost:8080/"
    },
    "id": "TqGyKiVeVyvV",
    "outputId": "e010adab-9922-49cc-e4f0-bb4c01a69155"
   },
   "outputs": [
    {
     "data": {
      "text/plain": [
       "array([0.55860113, 0.50828729])"
      ]
     },
     "execution_count": 65,
     "metadata": {
      "tags": []
     },
     "output_type": "execute_result"
    }
   ],
   "source": [
    "matrix = confusion_matrix(y_test, y_pred)\n",
    "matrix.diagonal()/matrix.sum(axis=1)"
   ]
  },
  {
   "cell_type": "code",
   "execution_count": 66,
   "metadata": {
    "colab": {
     "base_uri": "https://localhost:8080/",
     "height": 289
    },
    "id": "qR-XbD5GVyzB",
    "outputId": "f0ec1a30-e892-429d-80e6-d6c6eea0e519"
   },
   "outputs": [
    {
     "data": {
      "image/png": "[encoded data removed]",
      "text/plain": [
       "<Figure size 432x288 with 2 Axes>"
      ]
     },
     "metadata": {
      "needs_background": "light",
      "tags": []
     },
     "output_type": "display_data"
    }
   ],
   "source": [
    "show_confusion_matrix(y_test, y_pred)"
   ]
  },
  {
   "cell_type": "markdown",
   "metadata": {
    "id": "WBPtXtxu7tWj"
   },
   "source": [
    "## Falsetto exists (`falsetto > 0`)"
   ]
  },
  {
   "cell_type": "code",
   "execution_count": 16,
   "metadata": {
    "colab": {
     "base_uri": "https://localhost:8080/",
     "height": 442
    },
    "id": "pcnvvBbpa-dr",
    "outputId": "6656467d-d99b-43be-8c39-44019995356a"
   },
   "outputs": [
    {
     "data": {
      "text/html": [
       "<div>\n",
       "<style scoped>\n",
       "    .dataframe tbody tr th:only-of-type {\n",
       "        vertical-align: middle;\n",
       "    }\n",
       "\n",
       "    .dataframe tbody tr th {\n",
       "        vertical-align: top;\n",
       "    }\n",
       "\n",
       "    .dataframe thead th {\n",
       "        text-align: right;\n",
       "    }\n",
       "</style>\n",
       "<table border=\"1\" class=\"dataframe\">\n",
       "  <thead>\n",
       "    <tr style=\"text-align: right;\">\n",
       "      <th></th>\n",
       "      <th>gender</th>\n",
       "      <th>falsetto</th>\n",
       "      <th>spotify_id</th>\n",
       "      <th>acousticness</th>\n",
       "      <th>danceability</th>\n",
       "      <th>energy</th>\n",
       "      <th>instrumentalness</th>\n",
       "      <th>key</th>\n",
       "      <th>liveness</th>\n",
       "      <th>loudness</th>\n",
       "      <th>...</th>\n",
       "      <th>lowlevel.spectral_rolloff.mean</th>\n",
       "      <th>lowlevel.spectral_rolloff.stdev</th>\n",
       "      <th>lowlevel.spectral_skewness.mean</th>\n",
       "      <th>lowlevel.spectral_skewness.stdev</th>\n",
       "      <th>lowlevel.spectral_spread.mean</th>\n",
       "      <th>lowlevel.spectral_spread.stdev</th>\n",
       "      <th>lowlevel.spectral_strongpeak.mean</th>\n",
       "      <th>lowlevel.spectral_strongpeak.stdev</th>\n",
       "      <th>lowlevel.zerocrossingrate.mean</th>\n",
       "      <th>lowlevel.zerocrossingrate.stdev</th>\n",
       "    </tr>\n",
       "  </thead>\n",
       "  <tbody>\n",
       "    <tr>\n",
       "      <th>9</th>\n",
       "      <td>male</td>\n",
       "      <td>2.0</td>\n",
       "      <td>4xbJyF9RDa1VLoZNoCFy1r</td>\n",
       "      <td>0.4930</td>\n",
       "      <td>0.500</td>\n",
       "      <td>0.489</td>\n",
       "      <td>0.000130</td>\n",
       "      <td>2.0</td>\n",
       "      <td>0.1630</td>\n",
       "      <td>-11.428</td>\n",
       "      <td>...</td>\n",
       "      <td>4735.147949</td>\n",
       "      <td>3267.810791</td>\n",
       "      <td>1.116404</td>\n",
       "      <td>1.886502</td>\n",
       "      <td>4561006.00</td>\n",
       "      <td>2603007.000</td>\n",
       "      <td>1.443960</td>\n",
       "      <td>1.749026</td>\n",
       "      <td>0.178995</td>\n",
       "      <td>0.119499</td>\n",
       "    </tr>\n",
       "    <tr>\n",
       "      <th>15</th>\n",
       "      <td>female</td>\n",
       "      <td>4.0</td>\n",
       "      <td>6i9b14YXyWIMiQg26IWYA5</td>\n",
       "      <td>0.0370</td>\n",
       "      <td>0.604</td>\n",
       "      <td>0.549</td>\n",
       "      <td>0.000000</td>\n",
       "      <td>5.0</td>\n",
       "      <td>0.0856</td>\n",
       "      <td>-13.252</td>\n",
       "      <td>...</td>\n",
       "      <td>2836.416016</td>\n",
       "      <td>3128.354980</td>\n",
       "      <td>2.057861</td>\n",
       "      <td>1.807891</td>\n",
       "      <td>3878335.25</td>\n",
       "      <td>2358086.750</td>\n",
       "      <td>2.286654</td>\n",
       "      <td>2.462046</td>\n",
       "      <td>0.102232</td>\n",
       "      <td>0.103619</td>\n",
       "    </tr>\n",
       "    <tr>\n",
       "      <th>16</th>\n",
       "      <td>female</td>\n",
       "      <td>2.0</td>\n",
       "      <td>62QRbVm7DqR3eoqgT7pEfs</td>\n",
       "      <td>0.4750</td>\n",
       "      <td>0.408</td>\n",
       "      <td>0.511</td>\n",
       "      <td>0.000000</td>\n",
       "      <td>6.0</td>\n",
       "      <td>0.6250</td>\n",
       "      <td>-7.225</td>\n",
       "      <td>...</td>\n",
       "      <td>2104.636719</td>\n",
       "      <td>2154.778809</td>\n",
       "      <td>2.199072</td>\n",
       "      <td>1.584902</td>\n",
       "      <td>2869073.75</td>\n",
       "      <td>1492111.125</td>\n",
       "      <td>2.827456</td>\n",
       "      <td>2.472313</td>\n",
       "      <td>0.074080</td>\n",
       "      <td>0.069771</td>\n",
       "    </tr>\n",
       "    <tr>\n",
       "      <th>23</th>\n",
       "      <td>male</td>\n",
       "      <td>2.0</td>\n",
       "      <td>59HxRYpU61UgzewVxove4P</td>\n",
       "      <td>0.0300</td>\n",
       "      <td>0.721</td>\n",
       "      <td>0.507</td>\n",
       "      <td>0.000007</td>\n",
       "      <td>9.0</td>\n",
       "      <td>0.0939</td>\n",
       "      <td>-14.160</td>\n",
       "      <td>...</td>\n",
       "      <td>6266.567871</td>\n",
       "      <td>4363.871094</td>\n",
       "      <td>1.217723</td>\n",
       "      <td>1.479403</td>\n",
       "      <td>4497228.50</td>\n",
       "      <td>2384612.000</td>\n",
       "      <td>0.975161</td>\n",
       "      <td>2.004229</td>\n",
       "      <td>0.220188</td>\n",
       "      <td>0.147456</td>\n",
       "    </tr>\n",
       "    <tr>\n",
       "      <th>27</th>\n",
       "      <td>male</td>\n",
       "      <td>4.0</td>\n",
       "      <td>6igsoAR6Co9u7Rq3U7mlOD</td>\n",
       "      <td>0.0195</td>\n",
       "      <td>0.623</td>\n",
       "      <td>0.824</td>\n",
       "      <td>0.130000</td>\n",
       "      <td>6.0</td>\n",
       "      <td>0.0491</td>\n",
       "      <td>-8.971</td>\n",
       "      <td>...</td>\n",
       "      <td>3765.984375</td>\n",
       "      <td>3203.498047</td>\n",
       "      <td>1.726571</td>\n",
       "      <td>1.386702</td>\n",
       "      <td>2836681.00</td>\n",
       "      <td>1839193.250</td>\n",
       "      <td>1.518716</td>\n",
       "      <td>1.905755</td>\n",
       "      <td>0.123977</td>\n",
       "      <td>0.084495</td>\n",
       "    </tr>\n",
       "    <tr>\n",
       "      <th>...</th>\n",
       "      <td>...</td>\n",
       "      <td>...</td>\n",
       "      <td>...</td>\n",
       "      <td>...</td>\n",
       "      <td>...</td>\n",
       "      <td>...</td>\n",
       "      <td>...</td>\n",
       "      <td>...</td>\n",
       "      <td>...</td>\n",
       "      <td>...</td>\n",
       "      <td>...</td>\n",
       "      <td>...</td>\n",
       "      <td>...</td>\n",
       "      <td>...</td>\n",
       "      <td>...</td>\n",
       "      <td>...</td>\n",
       "      <td>...</td>\n",
       "      <td>...</td>\n",
       "      <td>...</td>\n",
       "      <td>...</td>\n",
       "      <td>...</td>\n",
       "    </tr>\n",
       "    <tr>\n",
       "      <th>19931</th>\n",
       "      <td>male</td>\n",
       "      <td>5.0</td>\n",
       "      <td>0hVXuCcriWRGvwMV1r5Yn9</td>\n",
       "      <td>0.0902</td>\n",
       "      <td>0.798</td>\n",
       "      <td>0.676</td>\n",
       "      <td>0.000000</td>\n",
       "      <td>6.0</td>\n",
       "      <td>0.0894</td>\n",
       "      <td>-5.041</td>\n",
       "      <td>...</td>\n",
       "      <td>2214.200684</td>\n",
       "      <td>2412.225586</td>\n",
       "      <td>2.230500</td>\n",
       "      <td>1.982302</td>\n",
       "      <td>4819406.00</td>\n",
       "      <td>2340881.500</td>\n",
       "      <td>1.472759</td>\n",
       "      <td>1.608723</td>\n",
       "      <td>0.082361</td>\n",
       "      <td>0.064803</td>\n",
       "    </tr>\n",
       "    <tr>\n",
       "      <th>19941</th>\n",
       "      <td>male</td>\n",
       "      <td>5.0</td>\n",
       "      <td>5hVghJ4KaYES3BFUATCYn0</td>\n",
       "      <td>0.2300</td>\n",
       "      <td>0.554</td>\n",
       "      <td>0.498</td>\n",
       "      <td>0.000006</td>\n",
       "      <td>9.0</td>\n",
       "      <td>0.7950</td>\n",
       "      <td>-8.866</td>\n",
       "      <td>...</td>\n",
       "      <td>2442.540039</td>\n",
       "      <td>2776.100098</td>\n",
       "      <td>1.572342</td>\n",
       "      <td>1.003438</td>\n",
       "      <td>5065732.50</td>\n",
       "      <td>2131740.500</td>\n",
       "      <td>1.667779</td>\n",
       "      <td>1.885981</td>\n",
       "      <td>0.090978</td>\n",
       "      <td>0.082639</td>\n",
       "    </tr>\n",
       "    <tr>\n",
       "      <th>19950</th>\n",
       "      <td>male</td>\n",
       "      <td>4.0</td>\n",
       "      <td>2bjUEg4jBtKBlPdNrTAppI</td>\n",
       "      <td>0.4760</td>\n",
       "      <td>0.562</td>\n",
       "      <td>0.460</td>\n",
       "      <td>0.000000</td>\n",
       "      <td>5.0</td>\n",
       "      <td>0.1070</td>\n",
       "      <td>-4.173</td>\n",
       "      <td>...</td>\n",
       "      <td>1997.761597</td>\n",
       "      <td>2177.704102</td>\n",
       "      <td>2.271033</td>\n",
       "      <td>2.148839</td>\n",
       "      <td>3734125.50</td>\n",
       "      <td>1719284.375</td>\n",
       "      <td>2.184670</td>\n",
       "      <td>2.098266</td>\n",
       "      <td>0.071852</td>\n",
       "      <td>0.064993</td>\n",
       "    </tr>\n",
       "    <tr>\n",
       "      <th>19960</th>\n",
       "      <td>female</td>\n",
       "      <td>2.0</td>\n",
       "      <td>5PYQUBXc7NYeI1obMKSJK0</td>\n",
       "      <td>0.1940</td>\n",
       "      <td>0.770</td>\n",
       "      <td>0.882</td>\n",
       "      <td>0.000000</td>\n",
       "      <td>8.0</td>\n",
       "      <td>0.3160</td>\n",
       "      <td>-4.792</td>\n",
       "      <td>...</td>\n",
       "      <td>2493.973877</td>\n",
       "      <td>2550.350098</td>\n",
       "      <td>2.467832</td>\n",
       "      <td>2.670809</td>\n",
       "      <td>4205579.00</td>\n",
       "      <td>2413093.250</td>\n",
       "      <td>2.463060</td>\n",
       "      <td>2.707667</td>\n",
       "      <td>0.090559</td>\n",
       "      <td>0.078907</td>\n",
       "    </tr>\n",
       "    <tr>\n",
       "      <th>19961</th>\n",
       "      <td>male</td>\n",
       "      <td>4.0</td>\n",
       "      <td>0vrmHPfoBadXVr2n0m1aqZ</td>\n",
       "      <td>0.0715</td>\n",
       "      <td>0.592</td>\n",
       "      <td>0.873</td>\n",
       "      <td>0.009820</td>\n",
       "      <td>9.0</td>\n",
       "      <td>0.1420</td>\n",
       "      <td>-5.650</td>\n",
       "      <td>...</td>\n",
       "      <td>2287.546631</td>\n",
       "      <td>2519.242920</td>\n",
       "      <td>2.103107</td>\n",
       "      <td>1.819545</td>\n",
       "      <td>4164803.00</td>\n",
       "      <td>2058423.125</td>\n",
       "      <td>2.021235</td>\n",
       "      <td>2.085034</td>\n",
       "      <td>0.086213</td>\n",
       "      <td>0.079879</td>\n",
       "    </tr>\n",
       "  </tbody>\n",
       "</table>\n",
       "<p>3863 rows × 99 columns</p>\n",
       "</div>"
      ],
      "text/plain": [
       "       gender  falsetto              spotify_id  acousticness  danceability  \\\n",
       "9        male       2.0  4xbJyF9RDa1VLoZNoCFy1r        0.4930         0.500   \n",
       "15     female       4.0  6i9b14YXyWIMiQg26IWYA5        0.0370         0.604   \n",
       "16     female       2.0  62QRbVm7DqR3eoqgT7pEfs        0.4750         0.408   \n",
       "23       male       2.0  59HxRYpU61UgzewVxove4P        0.0300         0.721   \n",
       "27       male       4.0  6igsoAR6Co9u7Rq3U7mlOD        0.0195         0.623   \n",
       "...       ...       ...                     ...           ...           ...   \n",
       "19931    male       5.0  0hVXuCcriWRGvwMV1r5Yn9        0.0902         0.798   \n",
       "19941    male       5.0  5hVghJ4KaYES3BFUATCYn0        0.2300         0.554   \n",
       "19950    male       4.0  2bjUEg4jBtKBlPdNrTAppI        0.4760         0.562   \n",
       "19960  female       2.0  5PYQUBXc7NYeI1obMKSJK0        0.1940         0.770   \n",
       "19961    male       4.0  0vrmHPfoBadXVr2n0m1aqZ        0.0715         0.592   \n",
       "\n",
       "       energy  instrumentalness  key  liveness  loudness  ...  \\\n",
       "9       0.489          0.000130  2.0    0.1630   -11.428  ...   \n",
       "15      0.549          0.000000  5.0    0.0856   -13.252  ...   \n",
       "16      0.511          0.000000  6.0    0.6250    -7.225  ...   \n",
       "23      0.507          0.000007  9.0    0.0939   -14.160  ...   \n",
       "27      0.824          0.130000  6.0    0.0491    -8.971  ...   \n",
       "...       ...               ...  ...       ...       ...  ...   \n",
       "19931   0.676          0.000000  6.0    0.0894    -5.041  ...   \n",
       "19941   0.498          0.000006  9.0    0.7950    -8.866  ...   \n",
       "19950   0.460          0.000000  5.0    0.1070    -4.173  ...   \n",
       "19960   0.882          0.000000  8.0    0.3160    -4.792  ...   \n",
       "19961   0.873          0.009820  9.0    0.1420    -5.650  ...   \n",
       "\n",
       "       lowlevel.spectral_rolloff.mean  lowlevel.spectral_rolloff.stdev  \\\n",
       "9                         4735.147949                      3267.810791   \n",
       "15                        2836.416016                      3128.354980   \n",
       "16                        2104.636719                      2154.778809   \n",
       "23                        6266.567871                      4363.871094   \n",
       "27                        3765.984375                      3203.498047   \n",
       "...                               ...                              ...   \n",
       "19931                     2214.200684                      2412.225586   \n",
       "19941                     2442.540039                      2776.100098   \n",
       "19950                     1997.761597                      2177.704102   \n",
       "19960                     2493.973877                      2550.350098   \n",
       "19961                     2287.546631                      2519.242920   \n",
       "\n",
       "       lowlevel.spectral_skewness.mean  lowlevel.spectral_skewness.stdev  \\\n",
       "9                             1.116404                          1.886502   \n",
       "15                            2.057861                          1.807891   \n",
       "16                            2.199072                          1.584902   \n",
       "23                            1.217723                          1.479403   \n",
       "27                            1.726571                          1.386702   \n",
       "...                                ...                               ...   \n",
       "19931                         2.230500                          1.982302   \n",
       "19941                         1.572342                          1.003438   \n",
       "19950                         2.271033                          2.148839   \n",
       "19960                         2.467832                          2.670809   \n",
       "19961                         2.103107                          1.819545   \n",
       "\n",
       "       lowlevel.spectral_spread.mean  lowlevel.spectral_spread.stdev  \\\n",
       "9                         4561006.00                     2603007.000   \n",
       "15                        3878335.25                     2358086.750   \n",
       "16                        2869073.75                     1492111.125   \n",
       "23                        4497228.50                     2384612.000   \n",
       "27                        2836681.00                     1839193.250   \n",
       "...                              ...                             ...   \n",
       "19931                     4819406.00                     2340881.500   \n",
       "19941                     5065732.50                     2131740.500   \n",
       "19950                     3734125.50                     1719284.375   \n",
       "19960                     4205579.00                     2413093.250   \n",
       "19961                     4164803.00                     2058423.125   \n",
       "\n",
       "       lowlevel.spectral_strongpeak.mean  lowlevel.spectral_strongpeak.stdev  \\\n",
       "9                               1.443960                            1.749026   \n",
       "15                              2.286654                            2.462046   \n",
       "16                              2.827456                            2.472313   \n",
       "23                              0.975161                            2.004229   \n",
       "27                              1.518716                            1.905755   \n",
       "...                                  ...                                 ...   \n",
       "19931                           1.472759                            1.608723   \n",
       "19941                           1.667779                            1.885981   \n",
       "19950                           2.184670                            2.098266   \n",
       "19960                           2.463060                            2.707667   \n",
       "19961                           2.021235                            2.085034   \n",
       "\n",
       "       lowlevel.zerocrossingrate.mean  lowlevel.zerocrossingrate.stdev  \n",
       "9                            0.178995                         0.119499  \n",
       "15                           0.102232                         0.103619  \n",
       "16                           0.074080                         0.069771  \n",
       "23                           0.220188                         0.147456  \n",
       "27                           0.123977                         0.084495  \n",
       "...                               ...                              ...  \n",
       "19931                        0.082361                         0.064803  \n",
       "19941                        0.090978                         0.082639  \n",
       "19950                        0.071852                         0.064993  \n",
       "19960                        0.090559                         0.078907  \n",
       "19961                        0.086213                         0.079879  \n",
       "\n",
       "[3863 rows x 99 columns]"
      ]
     },
     "execution_count": 16,
     "metadata": {},
     "output_type": "execute_result"
    }
   ],
   "source": [
    "df_fals = df[df['falsetto'] >= 1]\n",
    "df_fals"
   ]
  },
  {
   "cell_type": "code",
   "execution_count": 17,
   "metadata": {
    "colab": {
     "base_uri": "https://localhost:8080/"
    },
    "id": "cXPO3-qicmVq",
    "outputId": "eddcd54f-ce88-4a1c-8173-4d12c984889a"
   },
   "outputs": [
    {
     "data": {
      "text/plain": [
       "2.0     1510\n",
       "3.0      884\n",
       "4.0      736\n",
       "5.0      266\n",
       "6.0      184\n",
       "7.0       94\n",
       "8.0       84\n",
       "10.0      74\n",
       "9.0       31\n",
       "Name: falsetto, dtype: int64"
      ]
     },
     "execution_count": 17,
     "metadata": {},
     "output_type": "execute_result"
    }
   ],
   "source": [
    "df_fals['falsetto'].value_counts()"
   ]
  },
  {
   "cell_type": "code",
   "execution_count": 18,
   "metadata": {
    "colab": {
     "base_uri": "https://localhost:8080/",
     "height": 325
    },
    "id": "Rvgkhx2Rcmay",
    "outputId": "f3b3181a-892b-4db2-f92f-466efa9349a5"
   },
   "outputs": [
    {
     "data": {
      "text/plain": [
       "<AxesSubplot:title={'center':'Class distribution'}, xlabel='Falsetto value', ylabel='Occurencies number'>"
      ]
     },
     "execution_count": 18,
     "metadata": {},
     "output_type": "execute_result"
    },
    {
     "data": {
      "image/png": "[encoded data removed]",
      "text/plain": [
       "<Figure size 432x288 with 1 Axes>"
      ]
     },
     "metadata": {
      "needs_background": "light"
     },
     "output_type": "display_data"
    }
   ],
   "source": [
    "values = df_fals['falsetto'].value_counts().sort_index()\n",
    "values.plot.bar(**{'title': 'Class distribution', 'xlabel': 'Falsetto value', 'ylabel':'Occurencies number'})"
   ]
  },
  {
   "cell_type": "code",
   "execution_count": 72,
   "metadata": {
    "id": "uTcEGGpzcmdP"
   },
   "outputs": [],
   "source": [
    "y,X = get_y_and_X(df_fals)\n",
    "enc = OneHotEncoder()\n",
    "enc_X = enc.fit_transform(X)\n",
    "\n",
    "X_train, X_test, y_train, y_test = train_test_split(enc_X, y, test_size=0.33, random_state=42)"
   ]
  },
  {
   "cell_type": "code",
   "execution_count": 73,
   "metadata": {
    "id": "hRplxFCqcpfd"
   },
   "outputs": [],
   "source": [
    "dt_clf_fals = DecisionTreeClassifier(random_state=12, class_weight=\"balanced\", criterion=\"entropy\")\n",
    "dt_clf_fals.fit(X_train, y_train)\n",
    "y_pred = dt_clf_fals.predict(X_test)"
   ]
  },
  {
   "cell_type": "code",
   "execution_count": 74,
   "metadata": {
    "colab": {
     "base_uri": "https://localhost:8080/"
    },
    "id": "B1QczVPuc9oF",
    "outputId": "f93827df-b5fa-4580-f491-9123284a0e52"
   },
   "outputs": [
    {
     "name": "stdout",
     "output_type": "stream",
     "text": [
      "Accuracy score: 0.3516791044776119\n",
      "F1 Macro-Score: 0.10399352267065273\n",
      "F1 Weighted-Score: 0.2995871887758517\n"
     ]
    }
   ],
   "source": [
    "show_metrics(y_test, y_pred)"
   ]
  },
  {
   "cell_type": "code",
   "execution_count": 75,
   "metadata": {
    "colab": {
     "base_uri": "https://localhost:8080/"
    },
    "id": "IX3_qbgedGU7",
    "outputId": "ac6e50cd-41ab-4e41-b052-45b0bb724bd7"
   },
   "outputs": [
    {
     "data": {
      "text/plain": [
       "array([0.67579909, 0.16877637, 0.2039801 , 0.        , 0.        ,\n",
       "       0.        , 0.        , 0.        , 0.        ])"
      ]
     },
     "execution_count": 75,
     "metadata": {
      "tags": []
     },
     "output_type": "execute_result"
    }
   ],
   "source": [
    "matrix = confusion_matrix(y_test, y_pred)\n",
    "matrix.diagonal()/matrix.sum(axis=1)"
   ]
  },
  {
   "cell_type": "code",
   "execution_count": 76,
   "metadata": {
    "colab": {
     "base_uri": "https://localhost:8080/",
     "height": 289
    },
    "id": "EARgwxosdY4-",
    "outputId": "5b08f8e3-bfe1-4232-b3f2-c6aded4f3687"
   },
   "outputs": [
    {
     "data": {
      "image/png": "[encoded data removed]",
      "text/plain": [
       "<Figure size 432x288 with 2 Axes>"
      ]
     },
     "metadata": {
      "needs_background": "light",
      "tags": []
     },
     "output_type": "display_data"
    }
   ],
   "source": [
    "show_confusion_matrix(y_test, y_pred)"
   ]
  },
  {
   "cell_type": "markdown",
   "metadata": {
    "id": "hNlGD2rk-IRd"
   },
   "source": [
    "### Balancing the dataset"
   ]
  },
  {
   "cell_type": "code",
   "execution_count": 77,
   "metadata": {
    "colab": {
     "base_uri": "https://localhost:8080/"
    },
    "id": "EB-quVetddOM",
    "outputId": "fe1e8dd0-d435-41ee-b302-7b58fc811947"
   },
   "outputs": [
    {
     "name": "stderr",
     "output_type": "stream",
     "text": [
      "/usr/local/lib/python3.7/dist-packages/sklearn/utils/deprecation.py:87: FutureWarning: Function safe_indexing is deprecated; safe_indexing is deprecated in version 0.22 and will be removed in version 0.24.\n",
      "  warnings.warn(msg, category=FutureWarning)\n"
     ]
    }
   ],
   "source": [
    "oversample = SMOTE()\n",
    "X_train_smoted, y_train_smoted = oversample.fit_resample(X_train, y_train)"
   ]
  },
  {
   "cell_type": "code",
   "execution_count": 78,
   "metadata": {
    "id": "tUjo44vKdlWC"
   },
   "outputs": [],
   "source": [
    "dt_clf_fals_ov = DecisionTreeClassifier(random_state=12)\n",
    "dt_clf_fals_ov.fit(X_train_smoted, y_train_smoted)\n",
    "y_pred = dt_clf_fals_ov.predict(X_test)"
   ]
  },
  {
   "cell_type": "code",
   "execution_count": 83,
   "metadata": {
    "colab": {
     "base_uri": "https://localhost:8080/"
    },
    "id": "M4Sf2bfDdpn3",
    "outputId": "0cc61e9d-210f-448c-f4f9-9d2395b8d045"
   },
   "outputs": [
    {
     "name": "stdout",
     "output_type": "stream",
     "text": [
      "Accuracy score: 0.355410447761194\n",
      "F1 Macro-Score: 0.0987295425668513\n",
      "F1 Weighted-Score: 0.2801662337775929\n"
     ]
    }
   ],
   "source": [
    "show_metrics(y_test, y_pred)"
   ]
  },
  {
   "cell_type": "code",
   "execution_count": 80,
   "metadata": {
    "colab": {
     "base_uri": "https://localhost:8080/"
    },
    "id": "vctb0ZFnfGQE",
    "outputId": "3caf0e05-cd34-4655-cc34-44be2ec27dec"
   },
   "outputs": [
    {
     "data": {
      "text/plain": [
       "array([0.75570776, 0.14767932, 0.06965174, 0.        , 0.        ,\n",
       "       0.        , 0.        , 0.        , 0.04      ])"
      ]
     },
     "execution_count": 80,
     "metadata": {
      "tags": []
     },
     "output_type": "execute_result"
    }
   ],
   "source": [
    "matrix = confusion_matrix(y_test, y_pred)\n",
    "matrix.diagonal()/matrix.sum(axis=1)"
   ]
  },
  {
   "cell_type": "code",
   "execution_count": 81,
   "metadata": {
    "colab": {
     "base_uri": "https://localhost:8080/",
     "height": 289
    },
    "id": "9-0Qx2NHfGS3",
    "outputId": "767a9bb1-12d5-4705-f7d7-ca62e0daba2e"
   },
   "outputs": [
    {
     "data": {
      "image/png": "[encoded data removed]",
      "text/plain": [
       "<Figure size 432x288 with 2 Axes>"
      ]
     },
     "metadata": {
      "needs_background": "light",
      "tags": []
     },
     "output_type": "display_data"
    }
   ],
   "source": [
    "show_confusion_matrix(y_test, y_pred)"
   ]
  }
 ],
 "metadata": {
  "colab": {
   "collapsed_sections": [
    "-tQYy7KIzAqR",
    "F-Xbezd5AsTS",
    "laNmFffdIYLX",
    "fFcGPQgUEBLh",
    "_3MgOJD41mzo",
    "WBPtXtxu7tWj"
   ],
   "name": "classifier_raw.ipynb",
   "provenance": []
  },
  "kernelspec": {
   "display_name": "Python 3",
   "language": "python",
   "name": "python3"
  },
  "language_info": {
   "codemirror_mode": {
    "name": "ipython",
    "version": 3
   },
   "file_extension": ".py",
   "mimetype": "text/x-python",
   "name": "python",
   "nbconvert_exporter": "python",
   "pygments_lexer": "ipython3",
   "version": "3.7.9"
  }
 },
 "nbformat": 4,
 "nbformat_minor": 1
}
